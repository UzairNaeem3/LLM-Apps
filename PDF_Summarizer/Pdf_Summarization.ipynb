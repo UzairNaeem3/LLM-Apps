{
 "cells": [
  {
   "cell_type": "code",
   "execution_count": 156,
   "id": "e8d5a92f-f31c-483f-bd80-6a6c24de5ad4",
   "metadata": {},
   "outputs": [],
   "source": [
    "from langchain.document_loaders import PyPDFLoader\n",
    "import re\n",
    "from collections import defaultdict"
   ]
  },
  {
   "cell_type": "markdown",
   "id": "e494402f-ee8b-43d3-9735-f897d5673cb2",
   "metadata": {},
   "source": [
    "### Loading and Preprocessing the Book\n"
   ]
  },
  {
   "cell_type": "code",
   "execution_count": 157,
   "id": "8e6f673f-ab47-4b79-b80d-de888c206413",
   "metadata": {},
   "outputs": [],
   "source": [
    "loader = PyPDFLoader(\"pdf/crime-and-punishment.pdf\")\n",
    "pages = loader.load()"
   ]
  },
  {
   "cell_type": "code",
   "execution_count": 158,
   "id": "04aa84bf-eaa1-4993-b126-f62e8079c292",
   "metadata": {},
   "outputs": [
    {
     "name": "stdout",
     "output_type": "stream",
     "text": [
      "This book has total of 767 pages.\n"
     ]
    }
   ],
   "source": [
    "print (f\"This book has total of {len(pages)} pages.\")"
   ]
  },
  {
   "cell_type": "code",
   "execution_count": 159,
   "id": "07da2a6d-cc5c-4c66-bef5-9b06183d4146",
   "metadata": {},
   "outputs": [],
   "source": [
    "# First page has unnecessary content\n",
    "pages = pages[1:]"
   ]
  },
  {
   "cell_type": "markdown",
   "id": "9c843bbe-95f0-4af1-bda1-76ba13320877",
   "metadata": {},
   "source": [
    "__The first page of the book contains only the book title and the author's name, so I have omitted this page.__\n"
   ]
  },
  {
   "cell_type": "code",
   "execution_count": 160,
   "id": "c2ee9b06-fde1-494b-b41e-2eeab4541d3f",
   "metadata": {},
   "outputs": [],
   "source": [
    "# Define a list of texts to remove\n",
    "texts_to_remove = ['Crime and Punishment', 'Free eBooks at Planet eBook.com', '\u0018']\n",
    "\n",
    "# Define a pattern for page numbers and unwanted text\n",
    "pattern_page_numbers = \"^\\d+\"\n",
    "pattern_unwanted_text = '|'.join(texts_to_remove)\n",
    "\n",
    "# Compile regex patterns\n",
    "regex_page_numbers = re.compile(pattern_page_numbers)\n",
    "regex_unwanted_text = re.compile(pattern_unwanted_text, re.IGNORECASE)"
   ]
  },
  {
   "cell_type": "code",
   "execution_count": 161,
   "id": "09a12805-fa49-4665-b845-157ed903bf3c",
   "metadata": {},
   "outputs": [],
   "source": [
    "for page in pages:\n",
    "    page.page_content = regex_unwanted_text.sub('', page.page_content)\n",
    "    page.page_content = page.page_content.strip()\n",
    "    page.page_content = regex_page_numbers.sub('', page.page_content)"
   ]
  },
  {
   "cell_type": "markdown",
   "id": "b3788b59-25e9-40c7-ad83-cfb14679859d",
   "metadata": {},
   "source": [
    "__Removing unwanted text, including specified book titles and characters, from the pages using Python's regex patterns.__"
   ]
  },
  {
   "cell_type": "code",
   "execution_count": 162,
   "id": "5f46bd0f-d314-4abd-b408-b97d0c67add6",
   "metadata": {},
   "outputs": [],
   "source": [
    "# Creating deep copy of the pages\n",
    "import copy\n",
    "pages_copy = copy.deepcopy(pages)"
   ]
  },
  {
   "cell_type": "code",
   "execution_count": 163,
   "id": "08315e05-2f6f-4f0c-a901-8a887b0945d8",
   "metadata": {},
   "outputs": [],
   "source": [
    "# Create an empty list to store preprocessed pages\n",
    "preprocessed_pages = []\n",
    "\n",
    "# Iterate through each page in the copy of the original pages\n",
    "for i, page in enumerate(pages_copy):\n",
    "    # Strip the page content of any leading or trailing whitespace\n",
    "    page.page_content = page.page_content.strip()\n",
    "    # Check if the page has less than 100 characters and does not start with specific keywords\n",
    "    if len(page.page_content) < 100 and not(page.page_content.startswith(\"Part\") or page.page_content.startswith(\"PART\") or page.page_content.startswith(\"Epilogue\") ) :\n",
    "        # If the preprocessed list is not empty, combine the current page with the last page in the list\n",
    "        if preprocessed_pages:\n",
    "            last_page = preprocessed_pages.pop()\n",
    "            last_page.page_content += page.page_content\n",
    "            preprocessed_pages.append(last_page)\n",
    "    else:\n",
    "        preprocessed_pages.append(page)"
   ]
  },
  {
   "cell_type": "markdown",
   "id": "2b770d86-6fc2-41de-916c-e026405a97f0",
   "metadata": {},
   "source": [
    "**1.** This Python code performs preprocessing on a list of pages, aiming to combine short pages with the previous one if certain conditions are met. The `preprocessed_pages` list is initialized to store the final processed pages.\r\n",
    "\r\n",
    "**2.** The `strip()` method is used to remove any leading or trailing whitespace from the page content.\r\n",
    "\r\n",
    "**3.** Check if the page has less than 100 characters and does not start with specific keywords (\"Part,\" \"PART,\" or \"Epilogue\"), as it indicates that the page might be a continuation of the previous part of the book (The book contains 6 parts).\r\n",
    "\r\n",
    "**4.** If the conditions are met, it combines the current page with the last page in the `preprocessed_pages` list (if not empty).\r\n",
    "\r\n",
    "**5.** Otherwise, the page is added to the `preprocessed_pages` list as is.\r\n"
   ]
  },
  {
   "cell_type": "code",
   "execution_count": 164,
   "id": "9a331794-058a-4252-a003-74fed2a7154e",
   "metadata": {},
   "outputs": [
    {
     "name": "stdout",
     "output_type": "stream",
     "text": [
      "Part VI\n"
     ]
    }
   ],
   "source": [
    "print(preprocessed_pages[609].page_content)"
   ]
  },
  {
   "cell_type": "code",
   "execution_count": 165,
   "id": "73d03e45-bdb0-4392-a903-ce22c6455995",
   "metadata": {},
   "outputs": [
    {
     "name": "stdout",
     "output_type": "stream",
     "text": [
      "Chapter II\n",
      "Raskolnikov was not used to crowds, and, as we said be -\n",
      "fore, he avoided society of every sort, more especially \n",
      "of late. But now all at once he felt a desire to be with other \n",
      "people. Something new seemed to be taking place within \n",
      "him, and with it he felt a sort of thirst for company. He was \n",
      "so weary after a whole month of concentrated wretchedness \n",
      "and gloomy excitement that he longed to rest, if only for a \n",
      "moment, in some other world, whatever it might be; and, in \n",
      "spite of the filthiness of the surroundings, he was glad now \n",
      "to stay in the tavern.\n",
      "The master of the establishment was in another room, but \n",
      "he frequently came down some steps into the main room, \n",
      "his jaunty, tarred boots with red turn-over tops coming \n",
      "into view each time before the rest of his person. He wore \n",
      "a full coat and a horribly greasy black satin waistcoat, with \n",
      "no cravat, and his whole face seemed smeared with oil like \n",
      "an iron lock. At the counter stood a boy of about fourteen, \n",
      "and there was another boy somewhat younger who handed \n",
      "whatever was wanted. On the counter lay some sliced cu -\n",
      "cumber, some pieces of dried black bread, and some fish, \n",
      "chopped up small, all smelling very bad. It was insufferably \n",
      "close, and so heavy with the fumes of spirits that five min -\n",
      "utes in such an atmosphere might well make a man drunk.\n",
      "There are chance meetings with strangers that interest\n"
     ]
    }
   ],
   "source": [
    "print(preprocessed_pages[16].page_content)"
   ]
  },
  {
   "cell_type": "code",
   "execution_count": 166,
   "id": "6360cb31-4ae3-4979-9461-4c167a42ba92",
   "metadata": {},
   "outputs": [],
   "source": [
    "# Initialize an empty dictionary to store the parts_and_chapters\n",
    "parts_and_chapters = {}\n",
    "\n",
    "# Initialize an empty list to store the current chapter pages\n",
    "chapter_pages = []\n",
    "\n",
    "# Initialize a variable to store the current part name\n",
    "part_name = None\n",
    "\n",
    "# Initialize a variable to store the current chapter name\n",
    "chapter_name = None\n",
    "\n",
    "for page in preprocessed_pages[:-24]:\n",
    "    # Get the page content as a string\n",
    "    page_content = page.page_content\n",
    "    # Check if the page content starts with \"Part\"\n",
    "    if page_content.startswith(\"Part\"):\n",
    "        # If there is a previous part name and chapter name, add them and their pages to the output\n",
    "        if part_name and chapter_name:\n",
    "            parts_and_chapters[part_name].append([chapter_name, chapter_pages])\n",
    "        \n",
    "        # Update the current part name with the page content\n",
    "        part_name = page_content\n",
    "        \n",
    "        # Reset the chapter name and the chapter pages list\n",
    "        chapter_name = None\n",
    "        chapter_pages = []\n",
    "        \n",
    "        # Create a new key for the current part name in the parts_and_chapters dictionary\n",
    "        parts_and_chapters[part_name] = []\n",
    "    \n",
    "    # Check if the page content starts with \"Chapter\"\n",
    "    elif page_content.startswith(\"Chapter\"):\n",
    "        # If there is a previous chapter name, add it and its pages to the output\n",
    "        if chapter_name:\n",
    "            parts_and_chapters[part_name].append([chapter_name, chapter_pages])\n",
    "        \n",
    "        # Update the current chapter name with the page content\n",
    "        chapter_name = page_content\n",
    "        \n",
    "        # Reset the chapter pages list\n",
    "        chapter_pages = []\n",
    "    \n",
    "    # Otherwise, the page content is part of the current chapter\n",
    "    else:\n",
    "        # Add the page content to the chapter pages list\n",
    "        chapter_pages.append(page_content)\n",
    "\n",
    "# Add the last part name and chapter name and their pages to the output\n",
    "if part_name and chapter_name:\n",
    "    parts_and_chapters[part_name].append([chapter_name, chapter_pages])"
   ]
  },
  {
   "cell_type": "code",
   "execution_count": 167,
   "id": "7261647a-ead4-4b91-849e-232359535b49",
   "metadata": {},
   "outputs": [],
   "source": [
    "for part, chapters in parts_and_chapters.items():\n",
    "    # Loop over the chapters list\n",
    "    for i, chapter in enumerate(chapters):\n",
    "        # Get the chapter name and pages\n",
    "        chapter_name = chapter[0]\n",
    "        chapter_pages = chapter[1]\n",
    "        # Format the chapter name and pages as a single string\n",
    "        chapter_string = chapter_name + \" \".join(chapter_pages)\n",
    "        # Assign the chapter string back to the output\n",
    "        parts_and_chapters[part][i] = chapter_string"
   ]
  },
  {
   "cell_type": "markdown",
   "id": "8743e818-aa4e-4e61-a3a4-3fed6bf9dabf",
   "metadata": {},
   "source": [
    "**1.** This Python code processes a list of preprocessed pages to organize and extract parts and chapters, creating the structured dictionary `parts_and_chapters` that associates each part with its respective chapters and their corresponding pages.\r\n",
    "\r\n",
    "**2.** Initialization involves an empty dictionary (`parts_and_chapters`), an empty list (`chapter_pages`), and variables (`part_name` and `chapter_name`) to track the current part and chapter names.\r\n",
    "\r\n",
    "**3.** The main loop iterates through preprocessed pages, excluding the last 24 pages, which represent the epilogue of the book. It identifies parts and chapters based on keywords (\"Part\" or \"Chapter\") at the beginning of each page content.\r\n",
    "\r\n",
    "**4.** If the page content starts with \"Part,\" the current part is updated, and associated chapters are reset. A new key is created in the output dictionary for the current part.\r\n",
    "\r\n",
    "**5.** If the page content starts with \"Chapter,\" the current chapter is updated, and the chapter pages list is reset.\r\n",
    "\r\n",
    "**6.** Pages not indicating a part or chapter are considered part of the current chapter and added to the `chapter_pages` list.\r\n",
    "\r\n",
    "**7.** At each part or chapter change, the current information is added to the output dictionary.\r\n",
    "\r\n",
    "**8.** The last part, chapter, and associated pages are added to the output.\r\n",
    "\r\n",
    "The resulting `parts_and_chapters` dictionary provides a structured representation of the book's content, facilitating a more organized and accessible layout for further analysis or presentation in a notebook.\r\n",
    "\n"
   ]
  },
  {
   "cell_type": "code",
   "execution_count": 168,
   "id": "cd58ef64-ac7a-4f22-9692-3501e042f749",
   "metadata": {},
   "outputs": [
    {
     "data": {
      "text/plain": [
       "dict_keys(['Part I', 'Part II', 'Part III', 'Part IV', 'Part V', 'Part VI'])"
      ]
     },
     "execution_count": 168,
     "metadata": {},
     "output_type": "execute_result"
    }
   ],
   "source": [
    "# Analyzing the `parts_and_chapters` Dictionary\n",
    "parts_and_chapters.keys()"
   ]
  },
  {
   "cell_type": "code",
   "execution_count": 169,
   "id": "ef0b1ac7-e7ad-41ea-ad5b-cd939b1bbe3c",
   "metadata": {},
   "outputs": [
    {
     "name": "stdout",
     "output_type": "stream",
     "text": [
      "Part I of the book has 7 chapters\n"
     ]
    }
   ],
   "source": [
    "# Example: Retrieving and analyzing Part I\n",
    "Part1 = parts_and_chapters['Part I']\n",
    "print(f\"Part I of the book has {len(Part1)} chapters\")"
   ]
  },
  {
   "cell_type": "code",
   "execution_count": 173,
   "id": "95dc4e84-16e5-4697-8a9d-9db3ac8fd1a6",
   "metadata": {
    "scrolled": true
   },
   "outputs": [
    {
     "name": "stdout",
     "output_type": "stream",
     "text": [
      "Chapter I\n",
      "A strange period began for Raskolnikov: it was as though \n",
      "a fog had fallen upon him and wrapped him in a dreary \n",
      "solitude from which there was no escape. Recalling that pe -\n",
      "riod long after, he believed that his mind had been clouded \n",
      "at times, and that it had continued so, with intervals, till \n",
      "the final catastrophe. He was convinced that he had been \n",
      "mistaken about many things at that time, for instance as to \n",
      "the date of certain events. Anyway, when he tried later on to \n",
      "piece his recollections together, he learnt a great deal about \n",
      "himself from what other people told him. He had mixed up \n",
      "incidents and had explained events as due to circumstanc -\n",
      "es which existed only in his imagination. At times he was \n",
      "a prey to agonies of morbid uneasiness, amounting some -\n",
      "times to panic. But he remembered, too, moments, hours, \n",
      "perhaps whole days, of complete apathy, which came upon \n",
      "him as a reaction from his previous terror and might be \n",
      "compared with the abnormal insensibility, sometimes seen \n",
      "in the dying. He seemed to be trying in that latter stage to \n",
      "escape from a full and clear understanding of his position. \n",
      "Certain essential facts which required immediate consider -\n",
      "ation were particularly irksome to him. How glad he would \n",
      "have been to be free from some cares, the neglect of which \n",
      "would have threatened him with complete, inevitable ruin.\n",
      "He was particularly worried about Svidrigaïlov, he mightbe said to be permanently thinking of Svidrigaïlov. From \n",
      "the time of Svidrigaïlov’s too menacing and unmistakable \n",
      "words in Sonia’s room at the moment of Katerina Ivanov -\n",
      "na’s death, the normal working of his mind seemed to break \n",
      "down. But although this new fact caused him extreme un -\n",
      "easiness, Raskolnikov was in no hurry for an explanation \n",
      "of it. At times, finding himself in a solitary and remote part \n",
      "of the town, in some wretched eating-house, sitting alone \n",
      "lost in thought, hardly knowing how he had come there, he \n",
      "suddenly thought of Svidrigaïlov. He recognised suddenly, \n",
      "clearly, and with dismay that he ought at once to come to an \n",
      "understanding with that man and to make what terms he \n",
      "could. Walking outside the city gates one day, he positive -\n",
      "ly fancied that they had fixed a meeting there, that he was \n",
      "waiting for Svidrigaïlov. Another time he woke up before \n",
      "daybreak lying on the ground under some bushes and could \n",
      "not at first understand how he had come there.\n",
      "But during the two or three days after Katerina Ivanov -\n",
      "na’s death, he had two or three times met Svidrigaïlov at \n",
      "Sonia’s lodging, where he had gone aimlessly for a moment. \n",
      "They exchanged a few words and made no reference to the \n",
      "vital subject, as though they were tacitly agreed not to speak \n",
      "of it for a time.\n",
      "Katerina Ivanovna’s body was still lying in the coffin, \n",
      "Svidrigaïlov was busy making arrangements for the funeral. \n",
      "Sonia too was very busy. At their last meeting Svidrigaïlov \n",
      "informed Raskolnikov that he had made an arrangement, \n",
      "and a very satisfactory one, for Katerina Ivanovna’s chil -\n",
      "dren; that he had, through certain connections, succeeded in getting hold of certain personages by whose help the \n",
      "three orphans could be at once placed in very suitable insti -\n",
      "tutions; that the money he had settled on them had been of \n",
      "great assistance, as it is much easier to place orphans with \n",
      "some property than destitute ones. He said something too \n",
      "about Sonia and promised to come himself in a day or two \n",
      "to see Raskolnikov, mentioning that ‘he would like to con -\n",
      "sult with him, that there were things they must talk over….’\n",
      "This conversation took place in the passage on the stairs. \n",
      "Svidrigaïlov looked intently at Raskolnikov and suddenly, \n",
      "after a brief pause, dropping his voice, asked: ‘But how is \n",
      "it, Rodion Romanovitch; you don’t seem yourself? You look \n",
      "and you listen, but you don’t seem to understand. Cheer up! \n",
      "We’ll talk things over; I am only sorry, I’ve so much to do \n",
      "of my own business and other people’s. Ah, Rodion Roma -\n",
      "novitch,’ he added suddenly, ‘what all men need is fresh air, \n",
      "fresh air … more than anything!’\n",
      "He moved to one side to make way for the priest and \n",
      "server, who were coming up the stairs. They had come for \n",
      "the requiem service. By Svidrigaïlov’s orders it was sung \n",
      "twice a day punctually. Svidrigaïlov went his way. Raskol -\n",
      "nikov stood still a moment, thought, and followed the priest \n",
      "into Sonia’s room. He stood at the door. They began quietly, \n",
      "slowly and mournfully singing the service. From his child -\n",
      "hood the thought of death and the presence of death had \n",
      "something oppressive and mysteriously awful; and it was \n",
      "long since he had heard the requiem service. And there was \n",
      "something else here as well, too awful and disturbing. He \n",
      "looked at the children: they were all kneeling by the cof - fin; Polenka was weeping. Behind them Sonia prayed, softly \n",
      "and, as it were, timidly weeping.\n",
      "‘These last two days she hasn’t said a word to me, she \n",
      "hasn’t glanced at me,’ Raskolnikov thought suddenly. The \n",
      "sunlight was bright in the room; the incense rose in clouds; \n",
      "the priest read, ‘Give rest, oh Lord….’ Raskolnikov stayed \n",
      "all through the service. As he blessed them and took his \n",
      "leave, the priest looked round strangely. After the service, \n",
      "Raskolnikov went up to Sonia. She took both his hands and \n",
      "let her head sink on his shoulder. This slight friendly ges -\n",
      "ture bewildered Raskolnikov. It seemed strange to him that \n",
      "there was no trace of repugnance, no trace of disgust, no \n",
      "tremor in her hand. It was the furthest limit of self-abnega -\n",
      "tion, at least so he interpreted it.\n",
      "Sonia said nothing. Raskolnikov pressed her hand and \n",
      "went out. He felt very miserable. If it had been possible to \n",
      "escape to some solitude, he would have thought himself \n",
      "lucky, even if he had to spend his whole life there. But al -\n",
      "though he had almost always been by himself of late, he \n",
      "had never been able to feel alone. Sometimes he walked out \n",
      "of the town on to the high road, once he had even reached \n",
      "a little wood, but the lonelier the place was, the more he \n",
      "seemed to be aware of an uneasy presence near him. It did \n",
      "not frighten him, but greatly annoyed him, so that he made \n",
      "haste to return to the town, to mingle with the crowd, to \n",
      "enter restaurants and taverns, to walk in busy thorough -\n",
      "fares. There he felt easier and even more solitary. One day \n",
      "at dusk he sat for an hour listening to songs in a tavern and \n",
      "he remembered that he positively enjoyed it. But at last he had suddenly felt the same uneasiness again, as though his \n",
      "conscience smote him. ‘Here I sit listening to singing, is that \n",
      "what I ought to be doing?’ he thought. Yet he felt at once \n",
      "that that was not the only cause of his uneasiness; there was \n",
      "something requiring immediate decision, but it was some -\n",
      "thing he could not clearly understand or put into words. It \n",
      "was a hopeless tangle. ‘No, better the struggle again! Better \n",
      "Porfiry again … or Svidrigaïlov…. Better some challenge \n",
      "again … some attack. Yes, yes!’ he thought. He went out of \n",
      "the tavern and rushed away almost at a run. The thought of \n",
      "Dounia and his mother suddenly reduced him almost to a \n",
      "panic. That night he woke up before morning among some \n",
      "bushes in Krestovsky Island, trembling all over with fever; \n",
      "he walked home, and it was early morning when he arrived. \n",
      "After some hours’ sleep the fever left him, but he woke up \n",
      "late, two o’clock in the afternoon.\n",
      "He remembered that Katerina Ivanovna’s funeral had \n",
      "been fixed for that day, and was glad that he was not pres -\n",
      "ent at it. Nastasya brought him some food; he ate and drank \n",
      "with appetite, almost with greediness. His head was fresh -\n",
      "er and he was calmer than he had been for the last three \n",
      "days. He even felt a passing wonder at his previous attacks \n",
      "of panic.\n",
      "The door opened and Razumihin came in.\n",
      "‘Ah, he’s eating, then he’s not ill,’ said Razumihin. He took \n",
      "a chair and sat down at the table opposite Raskolnikov.\n",
      "He was troubled and did not attempt to conceal it. He \n",
      "spoke with evident annoyance, but without hurry or rais -\n",
      "ing his voice. He looked as though he had some special fixed determination.\n",
      "‘Listen,’ he began resolutely. ‘As far as I am concerned, \n",
      "you may all go to hell, but from what I see, it’s clear to me \n",
      "that I can’t make head or tail of it; please don’t think I’ve \n",
      "come to ask you questions. I don’t want to know, hang it! If \n",
      "you begin telling me your secrets, I dare say I shouldn’t stay \n",
      "to listen, I should go away cursing. I have only come to find \n",
      "out once for all whether it’s a fact that you are mad? There \n",
      "is a conviction in the air that you are mad or very nearly so. \n",
      "I admit I’ve been disposed to that opinion myself, judging \n",
      "from your stupid, repulsive and quite inexplicable actions, \n",
      "and from your recent behavior to your mother and sister. \n",
      "Only a monster or a madman could treat them as you have; \n",
      "so you must be mad.’\n",
      "‘When did you see them last?’\n",
      "‘Just now. Haven’t you seen them since then? What have \n",
      "you been doing with yourself? Tell me, please. I’ve been to \n",
      "you three times already. Your mother has been seriously ill \n",
      "since yesterday. She had made up her mind to come to you; \n",
      "Avdotya Romanovna tried to prevent her; she wouldn’t hear \n",
      "a word. ‘If he is ill, if his mind is giving way, who can look af -\n",
      "ter him like his mother?’ she said. We all came here together, \n",
      "we couldn’t let her come alone all the way. We kept begging \n",
      "her to be calm. We came in, you weren’t here; she sat down, \n",
      "and stayed ten minutes, while we stood waiting in silence. \n",
      "She got up and said: ‘If he’s gone out, that is, if he is well, and \n",
      "has forgotten his mother, it’s humiliating and unseemly for \n",
      "his mother to stand at his door begging for kindness.’ She \n",
      "returned home and took to her bed; now she is in a fever. ‘I see,’ she said, ‘that he has time for his girl . ‘ She means by \n",
      "your girl  Sofya Semyonovna, your betrothed or your mis -\n",
      "tress, I don’t know. I went at once to Sofya Semyonovna’s, \n",
      "for I wanted to know what was going on. I looked round, I \n",
      "saw the coffin, the children crying, and Sofya Semyonovna \n",
      "trying them on mourning dresses. No sign of you. I apol -\n",
      "ogised, came away, and reported to Avdotya Romanovna. \n",
      "So that’s all nonsense and you haven’t got a girl; the most \n",
      "likely thing is that you are mad. But here you sit, guzzling \n",
      "boiled beef as though you’d not had a bite for three days. \n",
      "Though as far as that goes, madmen eat too, but though you \n",
      "have not said a word to me yet … you are not mad! That I’d \n",
      "swear! Above all, you are not mad! So you may go to hell, all \n",
      "of you, for there’s some mystery, some secret about it, and \n",
      "I don’t intend to worry my brains over your secrets. So I’ve \n",
      "simply come to swear at you,’ he finished, getting up, ‘to re -\n",
      "lieve my mind. And I know what to do now.’\n",
      "‘What do you mean to do now?’\n",
      "‘What business is it of yours what I mean to do?’\n",
      "‘You are going in for a drinking bout.’\n",
      "‘How … how did you know?’\n",
      "‘Why, it’s pretty plain.’\n",
      "Razumihin paused for a minute.\n",
      "‘You always have been a very rational person and you’ve \n",
      "never been mad, never,’ he observed suddenly with warmth. \n",
      "‘You’re right: I shall drink. Good-bye!’\n",
      "And he moved to go out.\n",
      "‘I was talking with my sister—the day before yesterday, I \n",
      "think it was—about you, Razumihin.’ ‘About me! But … where can you have seen her the day \n",
      "before yesterday?’ Razumihin stopped short and even \n",
      "turned a little pale.\n",
      "One could see that his heart was throbbing slowly and \n",
      "violently.\n",
      "‘She came here by herself, sat there and talked to me.’\n",
      "‘She did!’\n",
      "‘Yes.’\n",
      "‘What did you say to her … I mean, about me?’\n",
      "‘I told her you were a very good, honest, and industrious \n",
      "man. I didn’t tell her you love her, because she knows that \n",
      "herself.’\n",
      "‘She knows that herself?’\n",
      "‘Well, it’s pretty plain. Wherever I might go, whatever \n",
      "happened to me, you would remain to look after them. I, \n",
      "so to speak, give them into your keeping, Razumihin. I say \n",
      "this because I know quite well how you love her, and am \n",
      "convinced of the purity of your heart. I know that she too \n",
      "may love you and perhaps does love you already. Now de -\n",
      "cide for yourself, as you know best, whether you need go in \n",
      "for a drinking bout or not.’\n",
      "‘Rodya! You see … well…. Ach, damn it! But where do \n",
      "you mean to go? Of course, if it’s all a secret, never mind…. \n",
      "But I … I shall find out the secret … and I am sure that it \n",
      "must be some ridiculous nonsense and that you’ve made it \n",
      "all up. Anyway you are a capital fellow, a capital fellow! …’\n",
      "‘That was just what I wanted to add, only you interrupted, \n",
      "that that was a very good decision of yours not to find out \n",
      "these secrets. Leave it to time, don’t worry about it. You’ll know it all in time when it must be. Yesterday a man said \n",
      "to me that what a man needs is fresh air, fresh air, fresh air. \n",
      "I mean to go to him directly to find out what he meant by \n",
      "that.’\n",
      "Razumihin stood lost in thought and excitement, mak -\n",
      "ing a silent conclusion.\n",
      "‘He’s a political conspirator! He must be. And he’s on \n",
      "the eve of some desperate step, that’s certain. It can only be \n",
      "that! And … and Dounia knows,’ he thought suddenly.\n",
      "‘So Avdotya Romanovna comes to see you,’ he said, \n",
      "weighing each syllable, ‘and you’re going to see a man who \n",
      "says we need more air, and so of course that letter … that \n",
      "too must have something to do with it,’ he concluded to \n",
      "himself.\n",
      "‘What letter?’\n",
      "‘She got a letter to-day. It upset her very much—very \n",
      "much indeed. Too much so. I began speaking of you, she \n",
      "begged me not to. Then … then she said that perhaps we \n",
      "should very soon have to part … then she began warmly \n",
      "thanking me for something; then she went to her room and \n",
      "locked herself in.’\n",
      "‘She got a letter?’ Raskolnikov asked thoughtfully.\n",
      "‘Yes, and you didn’t know? hm …’\n",
      "They were both silent.\n",
      "‘Good-bye, Rodion. There was a time, brother, when I…. \n",
      "Never mind, good-bye. You see, there was a time…. Well, \n",
      "good-bye! I must be off too. I am not going to drink. There’s \n",
      "no need now…. That’s all stuff!’\n",
      "He hurried out; but when he had almost closed the door behind him, he suddenly opened it again, and said, look -\n",
      "ing away:\n",
      "‘Oh, by the way, do you remember that murder, you know \n",
      "Porfiry’s, that old woman? Do you know the murderer has \n",
      "been found, he has confessed and given the proofs. It’s one \n",
      "of those very workmen, the painter, only fancy! Do you re -\n",
      "member I defended them here? Would you believe it, all \n",
      "that scene of fighting and laughing with his companions on \n",
      "the stairs while the porter and the two witnesses were going \n",
      "up, he got up on purpose to disarm suspicion. The cunning, \n",
      "the presence of mind of the young dog! One can hardly \n",
      "credit it; but it’s his own explanation, he has confessed it all. \n",
      "And what a fool I was about it! Well, he’s simply a genius \n",
      "of hypocrisy and resourcefulness in disarming the suspi -\n",
      "cions of the lawyers—so there’s nothing much to wonder \n",
      "at, I suppose! Of course people like that are always possible. \n",
      "And the fact that he couldn’t keep up the character, but con -\n",
      "fessed, makes him easier to believe in. But what a fool I was! \n",
      "I was frantic on their side!’\n",
      "‘Tell me, please, from whom did you hear that, and why \n",
      "does it interest you so?’ Raskolnikov asked with unmistak -\n",
      "able agitation.\n",
      "‘What next? You ask me why it interests me! … Well, I \n",
      "heard it from Porfiry, among others … It was from him I \n",
      "heard almost all about it.’\n",
      "‘From Porfiry?’\n",
      "‘From Porfiry.’\n",
      "‘What … what did he say?’ Raskolnikov asked in dismay.\n",
      "‘He gave me a capital explanation of it. Psychologically, after his fashion.’\n",
      "‘He explained it? Explained it himself?’\n",
      "‘Yes, yes; good-bye. I’ll tell you all about it another time, \n",
      "but now I’m busy. There was a time when I fancied … But \n",
      "no matter, another time! … What need is there for me to \n",
      "drink now? You have made me drunk without wine. I am \n",
      "drunk, Rodya! Good-bye, I’m going. I’ll come again very \n",
      "soon.’\n",
      "He went out.\n",
      "‘He’s a political conspirator, there’s not a doubt about \n",
      "it,’ Razumihin decided, as he slowly descended the stairs. \n",
      "‘And he’s drawn his sister in; that’s quite, quite in keeping \n",
      "with Avdotya Romanovna’s character. There are interviews \n",
      "between them! … She hinted at it too … So many of her \n",
      "words…. and hints … bear that meaning! And how else can \n",
      "all this tangle be explained? Hm! And I was almost think -\n",
      "ing … Good heavens, what I thought! Yes, I took leave of my \n",
      "senses and I wronged him! It was his doing, under the lamp \n",
      "in the corridor that day. Pfoo! What a crude, nasty, vile idea \n",
      "on my part! Nikolay is a brick, for confessing…. And how \n",
      "clear it all is now! His illness then, all his strange actions \n",
      "… before this, in the university, how morose he used to be, \n",
      "how gloomy…. But what’s the meaning now of that letter? \n",
      "There’s something in that, too, perhaps. Whom was it from? \n",
      "I suspect …! No, I must find out!’\n",
      "He thought of Dounia, realising all he had heard and his \n",
      "heart throbbed, and he suddenly broke into a run.\n",
      "As soon as Razumihin went out, Raskolnikov got up, \n",
      "turned to the window, walked into one corner and then into another, as though forgetting the smallness of his room, and \n",
      "sat down again on the sofa. He felt, so to speak, renewed; \n",
      "again the struggle, so a means of escape had come.\n",
      "‘Yes, a means of escape had come! It had been too sti -\n",
      "fling, too cramping, the burden had been too agonising. A \n",
      "lethargy had come upon him at times. From the moment of \n",
      "the scene with Nikolay at Porfiry’s he had been suffocating, \n",
      "penned in without hope of escape. After Nikolay’s confes -\n",
      "sion, on that very day had come the scene with Sonia; his \n",
      "behaviour and his last words had been utterly unlike any -\n",
      "thing he could have imagined beforehand; he had grown \n",
      "feebler, instantly and fundamentally! And he had agreed at \n",
      "the time with Sonia, he had agreed in his heart he could not \n",
      "go on living alone with such a thing on his mind!\n",
      "‘And Svidrigaïlov was a riddle … He worried him, that \n",
      "was true, but somehow not on the same point. He might \n",
      "still have a struggle to come with Svidrigaïlov. Svidrigaïlov, \n",
      "too, might be a means of escape; but Porfiry was a different \n",
      "matter.\n",
      "‘And so Porfiry himself had explained it to Razumihin, \n",
      "had explained it psychologically . He had begun bringing in \n",
      "his damned psychology again! Porfiry? But to think that \n",
      "Porfiry should for one moment believe that Nikolay was \n",
      "guilty, after what had passed between them before Nikolay’s \n",
      "appearance, after that tête-à-tête interview, which could \n",
      "have only one explanation? (During those days Raskolnikov \n",
      "had often recalled passages in that scene with Porfiry; he \n",
      "could not bear to let his mind rest on it.) Such words, such \n",
      "gestures had passed between them, they had exchanged such glances, things had been said in such a tone and had \n",
      "reached such a pass, that Nikolay, whom Porfiry had seen \n",
      "through at the first word, at the first gesture, could not have \n",
      "shaken his conviction.\n",
      "‘And to think that even Razumihin had begun to suspect! \n",
      "The scene in the corridor under the lamp had produced its \n",
      "effect then. He had rushed to Porfiry…. But what had in -\n",
      "duced the latter to receive him like that? What had been \n",
      "his object in putting Razumihin off with Nikolay? He must \n",
      "have some plan; there was some design, but what was it? It \n",
      "was true that a long time had passed since that morning—\n",
      "too long a time—and no sight nor sound of Porfiry. Well, \n",
      "that was a bad sign….’\n",
      "Raskolnikov took his cap and went out of the room, still \n",
      "pondering. It was the first time for a long while that he had \n",
      "felt clear in his mind, at least. ‘I must settle Svidrigaïlov,’ he \n",
      "thought, ‘and as soon as possible; he, too, seems to be wait -\n",
      "ing for me to come to him of my own accord.’ And at that \n",
      "moment there was such a rush of hate in his weary heart \n",
      "that he might have killed either of those two—Porfiry or \n",
      "Svidrigaïlov. At least he felt that he would be capable of do -\n",
      "ing it later, if not now.\n",
      "‘We shall see, we shall see,’ he repeated to himself.\n",
      "But no sooner had he opened the door than he stumbled \n",
      "upon Porfiry himself in the passage. He was coming in to \n",
      "see him. Raskolnikov was dumbfounded for a minute, but \n",
      "only for one minute. Strange to say, he was not very much \n",
      "astonished at seeing Porfiry and scarcely afraid of him. He \n",
      "was simply startled, but was quickly, instantly, on his guard. ‘Perhaps this will mean the end? But how could Porfiry have \n",
      "approached so quietly, like a cat, so that he had heard noth -\n",
      "ing? Could he have been listening at the door?’\n",
      "‘You didn’t expect a visitor, Rodion Romanovitch,’ Por -\n",
      "firy explained, laughing. ‘I’ve been meaning to look in a \n",
      "long time; I was passing by and thought why not go in for \n",
      "five minutes. Are you going out? I won’t keep you long. Just \n",
      "let me have one cigarette.’\n",
      "‘Sit down, Porfiry Petrovitch, sit down.’ Raskolnikov gave \n",
      "his visitor a seat with so pleased and friendly an expression \n",
      "that he would have marvelled at himself, if he could have \n",
      "seen it.\n",
      "The last moment had come, the last drops had to be \n",
      "drained! So a man will sometimes go through half an hour \n",
      "of mortal terror with a brigand, yet when the knife is at his \n",
      "throat at last, he feels no fear.\n",
      "Raskolnikov seated himself directly facing Porfiry, and \n",
      "looked at him without flinching. Porfiry screwed up his \n",
      "eyes and began lighting a cigarette.\n",
      "‘Speak, speak,’ seemed as though it would burst from \n",
      "Raskolnikov’s heart. ‘Come, why don’t you speak?’\n"
     ]
    }
   ],
   "source": [
    "# First chapter of last part of the book\n",
    "print(parts_and_chapters['Part VI'][0])"
   ]
  },
  {
   "cell_type": "markdown",
   "id": "351d67a3-d06d-4a37-b085-ffe273588214",
   "metadata": {},
   "source": [
    "### Summarization"
   ]
  },
  {
   "cell_type": "code",
   "execution_count": 176,
   "id": "66ffb145-ab5f-4b50-9e6b-889589a3c7f2",
   "metadata": {},
   "outputs": [
    {
     "data": {
      "text/plain": [
       "True"
      ]
     },
     "execution_count": 176,
     "metadata": {},
     "output_type": "execute_result"
    }
   ],
   "source": [
    "import openai\n",
    "from dotenv import load_dotenv\n",
    "import os\n",
    "import re\n",
    "\n",
    "load_dotenv()"
   ]
  },
  {
   "cell_type": "code",
   "execution_count": 177,
   "id": "37a65f68-acaa-439f-baa6-f7f1234550bc",
   "metadata": {},
   "outputs": [],
   "source": [
    "from langchain.schema import Document\n",
    "from langchain.text_splitter import RecursiveCharacterTextSplitter\n",
    "from langchain.chat_models import ChatOpenAI\n",
    "from langchain.chains.summarize import load_summarize_chain\n",
    "from langchain.prompts import PromptTemplate\n",
    "from langchain.text_splitter import CharacterTextSplitter\n",
    "from langchain.llms import OpenAI\n",
    "from langchain.chains.llm import LLMChain\n",
    "from langchain.chains.combine_documents.stuff import StuffDocumentsChain\n",
    "from langchain.chat_models import ChatAnthropic\n",
    "from langchain.chains import MapReduceDocumentsChain, ReduceDocumentsChain"
   ]
  },
  {
   "cell_type": "code",
   "execution_count": 178,
   "id": "adb6e644-d7ae-45da-af24-c622cb005d8e",
   "metadata": {},
   "outputs": [],
   "source": [
    "api_key = os.getenv(\"API_KEY\")"
   ]
  },
  {
   "cell_type": "markdown",
   "id": "ad5e79ad-4aa0-41d3-9ef2-0482bd122b8e",
   "metadata": {},
   "source": [
    "__Translators Preface Summary__"
   ]
  },
  {
   "cell_type": "code",
   "execution_count": 179,
   "id": "26ba5354-695a-42dd-a63d-e972fd9987e7",
   "metadata": {},
   "outputs": [],
   "source": [
    "# First 3 pages are the translators preface\n",
    "translators_preface = preprocessed_pages[0].page_content + preprocessed_pages[1].page_content + preprocessed_pages[2].page_content"
   ]
  },
  {
   "cell_type": "code",
   "execution_count": 180,
   "id": "e4c74c21-e98f-4cf3-8985-81e816aa61b9",
   "metadata": {
    "scrolled": true
   },
   "outputs": [
    {
     "name": "stdout",
     "output_type": "stream",
     "text": [
      "Translator’s Preface\n",
      "A few words about Dostoevsky himself may help the Eng -\n",
      "lish reader to understand his work.\n",
      "Dostoevsky was the son of a doctor. His parents were \n",
      "very hard- working and deeply religious people, but so poor \n",
      "that they lived with their five children in only two rooms. \n",
      "The father and mother spent their evenings in reading aloud \n",
      "to their children, generally from books of a serious charac -\n",
      "ter.\n",
      "Though always sickly and delicate Dostoevsky came out \n",
      "third in the final examination of the Petersburg school of \n",
      "Engineering. There he had already begun his first work, \n",
      "‘Poor Folk.’\n",
      "This story was published by the poet Nekrassov in his \n",
      "review and was received with acclamations. The shy, un -\n",
      "known youth found himself instantly something of a \n",
      "celebrity. A brilliant and successful career seemed to open \n",
      "before him, but those hopes were soon dashed. In 1849 he \n",
      "was arrested.\n",
      "Though neither by temperament nor conviction a revolu -\n",
      "tionist, Dostoevsky was one of a little group of young men \n",
      "who met together to read Fourier and Proudhon. He was ac -\n",
      "cused of ‘taking part in conversations against the censorship, \n",
      "of reading a letter from Byelinsky to Gogol, and of knowing \n",
      "of the intention to set up a printing press.’ Under Nicholas I.(that ‘stern and just man,’ as Maurice Baring calls him) this \n",
      "was enough, and he was condemned to death. After eight \n",
      "months’ imprisonment he was with twenty-one others tak -\n",
      "en out to the Semyonovsky Square to be shot. Writing to his \n",
      "brother Mihail, Dostoevsky says: ‘They snapped words over \n",
      "our heads, and they made us put on the white shirts worn by \n",
      "persons condemned to death. Thereupon we were bound in \n",
      "threes to stakes, to suffer execution. Being the third in the \n",
      "row, I concluded I had only a few minutes of life before me. \n",
      "I thought of you and your dear ones and I contrived to kiss \n",
      "Plestcheiev and Dourov, who were next to me, and to bid \n",
      "them farewell. Suddenly the troops beat a tattoo, we were \n",
      "unbound, brought back upon the scaffold, and informed \n",
      "that his Majesty had spared us our lives.’ The sentence was \n",
      "commuted to hard labour.\n",
      "One of the prisoners, Grigoryev, went mad as soon as he \n",
      "was untied, and never regained his sanity.\n",
      "The intense suffering of this experience left a lasting \n",
      "stamp on Dostoevsky’s mind. Though his religious temper \n",
      "led him in the end to accept every suffering with resignation \n",
      "and to regard it as a blessing in his own case, he constantly \n",
      "recurs to the subject in his writings. He describes the awful \n",
      "agony of the condemned man and insists on the cruelty of \n",
      "inflicting such torture. Then followed four years of penal \n",
      "servitude, spent in the company of common criminals in \n",
      "Siberia, where he began the ‘Dead House,’ and some years \n",
      "of service in a disciplinary battalion.\n",
      "He had shown signs of some obscure nervous disease be -\n",
      "fore his arrest and this now developed into violent attacks ofepilepsy, from which he suffered for the rest of his life. The \n",
      "fits occurred three or four times a year and were more fre -\n",
      "quent in periods of great strain. In 1859 he was allowed to \n",
      "return to Russia. He started a journal— ‘Vremya,’ which was \n",
      "forbidden by the Censorship through a misunderstanding. \n",
      "In 1864 he lost his first wife and his brother Mihail. He was \n",
      "in terrible poverty, yet he took upon himself the payment \n",
      "of his brother’s debts. He started another journal—‘The Ep -\n",
      "och,’ which within a few months was also prohibited. He \n",
      "was weighed down by debt, his brother’s family was depen -\n",
      "dent on him, he was forced to write at heart-breaking speed, \n",
      "and is said never to have corrected his work. The later years \n",
      "of his life were much softened by the tenderness and devo -\n",
      "tion of his second wife.\n",
      "In June 1880 he made his famous speech at the unveil -\n",
      "ing of the monument to Pushkin in Moscow and he was \n",
      "received with extraordinary demonstrations of love and \n",
      "honour.\n",
      "A few months later Dostoevsky died. He was followed to \n",
      "the grave by a vast multitude of mourners, who ‘gave the \n",
      "hapless man the funeral of a king.’ He is still probably the \n",
      "most widely read writer in Russia.\n",
      "In the words of a Russian critic, who seeks to explain the \n",
      "feeling inspired by Dostoevsky: ‘He was one of ourselves, a \n",
      "man of our blood and our bone, but one who has suffered \n",
      "and has seen so much more deeply than we have his insight \n",
      "impresses us as wisdom … that wisdom of the heart which \n",
      "we seek that we may learn from it how to live. All his other \n",
      "gifts came to him from nature, this he won for himself andthrough it he became great.’\n"
     ]
    }
   ],
   "source": [
    "print(translators_preface)"
   ]
  },
  {
   "cell_type": "code",
   "execution_count": 57,
   "id": "52410219-425b-4878-830d-2382997b74a2",
   "metadata": {},
   "outputs": [],
   "source": [
    "# Define LLM\n",
    "llm = ChatAnthropic(model_name=\"claude-2\", temperature=0)\n",
    "# llm = ChatOpenAI(model_name=\"gpt-3.5-turbo-16k\", temperature=0)"
   ]
  },
  {
   "cell_type": "code",
   "execution_count": 58,
   "id": "fa7a440b-5937-4804-af97-09ed54187012",
   "metadata": {},
   "outputs": [
    {
     "name": "stdout",
     "output_type": "stream",
     "text": [
      "This translators_preface has 1082 tokens in it\n"
     ]
    }
   ],
   "source": [
    "num_tokens = llm.get_num_tokens(translators_preface)\n",
    "\n",
    "print (f\"This translators_preface has {num_tokens} tokens in it\")"
   ]
  },
  {
   "cell_type": "code",
   "execution_count": 59,
   "id": "d0ab5ba2-c2cb-4c23-b4b3-f76de4d63829",
   "metadata": {},
   "outputs": [],
   "source": [
    "text_splitter = RecursiveCharacterTextSplitter(separators=[\"\\n\\n\", \"\\n\"], chunk_size=1200, chunk_overlap=100)\n",
    "translators_preface_docs = text_splitter.create_documents([translators_preface])"
   ]
  },
  {
   "cell_type": "code",
   "execution_count": 60,
   "id": "ed209237-a765-44b4-934a-5db682850242",
   "metadata": {},
   "outputs": [
    {
     "name": "stdout",
     "output_type": "stream",
     "text": [
      "Now we have 4 documents and the first one has 281 tokens\n"
     ]
    }
   ],
   "source": [
    "num_docs = len(translators_preface_docs)\n",
    "\n",
    "num_tokens_first_doc = llm.get_num_tokens(translators_preface_docs[0].page_content)\n",
    "\n",
    "print (f\"Now we have {num_docs} documents and the first one has {num_tokens_first_doc} tokens\")"
   ]
  },
  {
   "cell_type": "code",
   "execution_count": 61,
   "id": "49e0e253-de80-4db8-b51a-543602da6e55",
   "metadata": {},
   "outputs": [],
   "source": [
    "# Define prompt\n",
    "prompt_template = \"\"\"\n",
    "        Generate a comprehensive and concise summary covering all crucial elements from the following \n",
    "        Translator's Preface text delimited by triple backquotes. Return your response which covers the\n",
    "        key points of the text.\n",
    "        \n",
    "        ```{text}```\n",
    "        \n",
    "        Comprehensive SUMMARY:\n",
    "\"\"\"\n",
    "\n",
    "prompt = PromptTemplate(template=prompt_template, input_variables=[\"text\"])"
   ]
  },
  {
   "cell_type": "code",
   "execution_count": 59,
   "id": "c9b21ee8-6590-4a1f-9b97-c7266c4aedce",
   "metadata": {
    "scrolled": true
   },
   "outputs": [],
   "source": [
    "# Define StuffDocumentsChain\n",
    "stuff_chain = load_summarize_chain(llm, chain_type=\"stuff\", prompt=prompt)"
   ]
  },
  {
   "cell_type": "code",
   "execution_count": 60,
   "id": "c68c2f00-df40-4e76-b879-3a8a028bd0a2",
   "metadata": {},
   "outputs": [],
   "source": [
    "summarized_translators_preface = stuff_chain.run(translators_preface_docs)"
   ]
  },
  {
   "cell_type": "code",
   "execution_count": 61,
   "id": "0399f778-e7c2-4023-92fa-e69af689588f",
   "metadata": {},
   "outputs": [],
   "source": [
    "import textwrap"
   ]
  },
  {
   "cell_type": "code",
   "execution_count": 62,
   "id": "0bdec658-e988-4b04-aea8-ba083d0cdb36",
   "metadata": {},
   "outputs": [],
   "source": [
    "summarized_translators_preface = textwrap.fill(summarized_translators_preface, \n",
    "                             width=100,\n",
    "                             break_long_words=False,\n",
    "                             replace_whitespace=False)"
   ]
  },
  {
   "cell_type": "code",
   "execution_count": 63,
   "id": "d97c908b-34f0-40ff-8a03-75ea2435af29",
   "metadata": {},
   "outputs": [
    {
     "name": "stdout",
     "output_type": "stream",
     "text": [
      "This Translator's Preface provides a brief overview of the life and experiences of Fyodor\n",
      "Dostoevsky, shedding light on the influences that shaped his work. Dostoevsky came from a poor but\n",
      "deeply religious family and showed promise as a writer from a young age. However, his hopes for a\n",
      "successful career were dashed when he was arrested in 1849 for his association with a group of young\n",
      "men involved in revolutionary activities. He was initially sentenced to death but had his sentence\n",
      "commuted to hard labor. The intense suffering he endured during this time left a lasting impact on\n",
      "his writing, as he frequently explored themes of suffering and cruelty. Dostoevsky also suffered\n",
      "from epilepsy, which further contributed to his experiences of hardship. Despite facing numerous\n",
      "challenges, he continued to write and gained recognition as a prominent Russian writer. He died in\n",
      "1881, leaving behind a legacy as one of Russia's most widely read authors.\n"
     ]
    }
   ],
   "source": [
    "print(summarized_translators_preface)"
   ]
  },
  {
   "cell_type": "markdown",
   "id": "757585e8-fd89-416f-9d54-14d86abeef54",
   "metadata": {},
   "source": [
    "### Part 1 "
   ]
  },
  {
   "cell_type": "code",
   "execution_count": 67,
   "id": "9455253d-82d4-49c5-bf13-34bb043b3162",
   "metadata": {},
   "outputs": [
    {
     "data": {
      "text/plain": [
       "dict_keys(['Part I', 'Part II', 'Part III', 'Part IV', 'Part V', 'Part VI'])"
      ]
     },
     "execution_count": 67,
     "metadata": {},
     "output_type": "execute_result"
    }
   ],
   "source": [
    "parts_and_chapters.keys()"
   ]
  },
  {
   "cell_type": "code",
   "execution_count": 181,
   "id": "bf274236-8684-4d97-b95a-9244083fc5df",
   "metadata": {},
   "outputs": [
    {
     "name": "stdout",
     "output_type": "stream",
     "text": [
      "Part 1 has 7 chapters\n"
     ]
    }
   ],
   "source": [
    "Part1 = parts_and_chapters['Part I']\n",
    "print(f\"Part 1 has {len(Part1)} chapters\")"
   ]
  },
  {
   "cell_type": "code",
   "execution_count": null,
   "id": "bba4fff3-843d-4d0f-aef4-3f55283310df",
   "metadata": {
    "scrolled": true
   },
   "outputs": [],
   "source": [
    "part1 = \"\".join(Part1)\n",
    "print(part1)"
   ]
  },
  {
   "cell_type": "code",
   "execution_count": 70,
   "id": "61da3e6b-7d61-4528-8fde-a904a3594fa6",
   "metadata": {},
   "outputs": [
    {
     "name": "stdout",
     "output_type": "stream",
     "text": [
      "The part1 of book has 48940 tokens in it\n"
     ]
    }
   ],
   "source": [
    "num_tokens = llm.get_num_tokens(part1)\n",
    "\n",
    "print (f\"The part1 of book has {num_tokens} tokens in it\")"
   ]
  },
  {
   "cell_type": "code",
   "execution_count": 71,
   "id": "341a72f0-058b-4ee3-beb3-222fbaaa308d",
   "metadata": {},
   "outputs": [],
   "source": [
    "text_splitter = RecursiveCharacterTextSplitter(separators=[\"\\n\\n\", \"\\n\"], chunk_size=10000, chunk_overlap=500)\n",
    "part1_docs = text_splitter.create_documents([part1])"
   ]
  },
  {
   "cell_type": "code",
   "execution_count": 72,
   "id": "7095fc59-6cbc-42e6-8714-63b6fea5c437",
   "metadata": {},
   "outputs": [
    {
     "name": "stdout",
     "output_type": "stream",
     "text": [
      "Now we have 21 documents and the first one has 2443 tokens\n"
     ]
    }
   ],
   "source": [
    "num_docs = len(part1_docs)\n",
    "\n",
    "num_tokens_first_doc = llm.get_num_tokens(part1_docs[0].page_content)\n",
    "print (f\"Now we have {num_docs} documents and the first one has {num_tokens_first_doc} tokens\")"
   ]
  },
  {
   "cell_type": "code",
   "execution_count": 70,
   "id": "17e6f76d-71ef-4208-9f7b-dc75b04e5901",
   "metadata": {},
   "outputs": [],
   "source": [
    "# Define prompt\n",
    "prompt_template = \"\"\"\n",
    "        Given a text delimited by triple backquotes that contains part1 of the crime and punishment book, which is divided \n",
    "        into multiple chapters, generate a summary of part1 that covers all the key points and aspects of the story. \n",
    "        The summary should be written in a clear and engaging way.\n",
    "\n",
    "        ```{text}```\n",
    "\n",
    "        Summary of Part1:\n",
    "\"\"\"\n",
    "prompt = PromptTemplate(template=prompt_template, input_variables=[\"text\"])\n",
    "\n",
    "refine_template = (\n",
    "    \"Your job is to produce a final summary\\n\"\n",
    "    \"We have provided an existing summary up to a certain point: {existing_answer}\\n\"\n",
    "    \"We have the opportunity to refine the existing summary\"\n",
    "    \"(only if needed) with some more context below.\\n\"\n",
    "    \"------------\\n\"\n",
    "    \"{text}\\n\"\n",
    "    \"------------\\n\"\n",
    "    \"Given the new context, refine the original summary\"\n",
    "    \"If the context isn't useful, return the original summary.\"\n",
    ")\n",
    "refine_prompt = PromptTemplate.from_template(refine_template)"
   ]
  },
  {
   "cell_type": "code",
   "execution_count": 71,
   "id": "3d01165d-d688-4930-b5b1-711b5be00a61",
   "metadata": {},
   "outputs": [],
   "source": [
    "refine_chain = load_summarize_chain(\n",
    "    llm=llm,\n",
    "    chain_type=\"refine\",\n",
    "    question_prompt=prompt,\n",
    "    refine_prompt=refine_prompt,\n",
    "    input_key=\"input_documents\",\n",
    "    output_key=\"output_text\",\n",
    ")"
   ]
  },
  {
   "cell_type": "code",
   "execution_count": null,
   "id": "4ab6601d-1547-404a-91b8-f49bb858559b",
   "metadata": {
    "scrolled": true
   },
   "outputs": [],
   "source": [
    "refine_outputs = refine_chain({\"input_documents\": part1_docs})"
   ]
  },
  {
   "cell_type": "code",
   "execution_count": 92,
   "id": "4416e861-370e-42aa-817b-c2b2c77a1f1f",
   "metadata": {},
   "outputs": [],
   "source": [
    "print(refine_outputs[\"output_text\"])"
   ]
  },
  {
   "cell_type": "markdown",
   "id": "7d860b54-cff1-4f2f-8e22-fa08417eee3b",
   "metadata": {},
   "source": [
    "### Part 2"
   ]
  },
  {
   "cell_type": "code",
   "execution_count": 73,
   "id": "837904e6-03e4-4724-9a8f-f6a21b39509d",
   "metadata": {},
   "outputs": [
    {
     "data": {
      "text/plain": [
       "dict_keys(['Part I', 'Part II', 'Part III', 'Part IV', 'Part V', 'Part VI'])"
      ]
     },
     "execution_count": 73,
     "metadata": {},
     "output_type": "execute_result"
    }
   ],
   "source": [
    "parts_and_chapters.keys()"
   ]
  },
  {
   "cell_type": "code",
   "execution_count": 182,
   "id": "6089b1d1-789c-4726-ac54-37e2304e5b65",
   "metadata": {},
   "outputs": [
    {
     "name": "stdout",
     "output_type": "stream",
     "text": [
      "Part 2 has 7 chapters\n"
     ]
    }
   ],
   "source": [
    "Part2 = parts_and_chapters['Part II']\n",
    "print(f\"Part 2 has {len(Part2)} chapters\")"
   ]
  },
  {
   "cell_type": "code",
   "execution_count": null,
   "id": "6c12af1d-9e6d-4608-a11e-8f96eacdc547",
   "metadata": {
    "scrolled": true
   },
   "outputs": [],
   "source": [
    "part2 = \"\".join(Part2)\n",
    "print(part2)"
   ]
  },
  {
   "cell_type": "code",
   "execution_count": 77,
   "id": "779d2c68-cf6a-4756-900f-66e4f4070436",
   "metadata": {},
   "outputs": [
    {
     "name": "stdout",
     "output_type": "stream",
     "text": [
      "The part2 of book has 56958 tokens in it\n"
     ]
    }
   ],
   "source": [
    "num_tokens = llm.get_num_tokens(part2)\n",
    "\n",
    "print (f\"The part2 of book has {num_tokens} tokens in it\")"
   ]
  },
  {
   "cell_type": "code",
   "execution_count": 79,
   "id": "8475e6b2-3445-4279-93b5-b45336ddddf9",
   "metadata": {},
   "outputs": [],
   "source": [
    "text_splitter = RecursiveCharacterTextSplitter(separators=[\"\\n\\n\", \"\\n\"], chunk_size=10000, chunk_overlap=500)\n",
    "part2_docs = text_splitter.create_documents([part2])"
   ]
  },
  {
   "cell_type": "code",
   "execution_count": 80,
   "id": "5c0587ac-ca5e-44e6-9180-bcb8eaf6b369",
   "metadata": {},
   "outputs": [
    {
     "name": "stdout",
     "output_type": "stream",
     "text": [
      "Now we have 23 documents and the first one has 2537 tokens\n"
     ]
    }
   ],
   "source": [
    "num_docs = len(part2_docs)\n",
    "\n",
    "num_tokens_first_doc = llm.get_num_tokens(part2_docs[0].page_content)\n",
    "print (f\"Now we have {num_docs} documents and the first one has {num_tokens_first_doc} tokens\")"
   ]
  },
  {
   "cell_type": "code",
   "execution_count": 81,
   "id": "b460261a-5d8b-45b7-8088-fdcbd33b3283",
   "metadata": {},
   "outputs": [],
   "source": [
    "# Define prompt\n",
    "prompt_template = \"\"\"\n",
    "        Given a text delimited by triple backquotes that contains part2 of the crime and punishment book, which is divided \n",
    "        into multiple chapters, generate a summary of part2 that covers all the key points and aspects of the story. \n",
    "        The summary should be written in a clear and engaging way.\n",
    "\n",
    "        ```{text}```\n",
    "\n",
    "        Summary of Part1:\n",
    "\"\"\"\n",
    "prompt = PromptTemplate(template=prompt_template, input_variables=[\"text\"])\n",
    "\n",
    "refine_template = (\n",
    "    \"Your job is to produce a final summary\\n\"\n",
    "    \"We have provided an existing summary up to a certain point: {existing_answer}\\n\"\n",
    "    \"We have the opportunity to refine the existing summary\"\n",
    "    \"(only if needed) with some more context below.\\n\"\n",
    "    \"------------\\n\"\n",
    "    \"{text}\\n\"\n",
    "    \"------------\\n\"\n",
    "    \"Given the new context, refine the original summary\"\n",
    "    \"If the context isn't useful, return the original summary.\"\n",
    ")\n",
    "refine_prompt = PromptTemplate.from_template(refine_template)"
   ]
  },
  {
   "cell_type": "code",
   "execution_count": 82,
   "id": "25bb3de1-f6bb-41e2-a752-a845a1935824",
   "metadata": {},
   "outputs": [],
   "source": [
    "refine_chain = load_summarize_chain(\n",
    "    llm=llm,\n",
    "    chain_type=\"refine\",\n",
    "    question_prompt=prompt,\n",
    "    refine_prompt=refine_prompt,\n",
    "    input_key=\"input_documents\",\n",
    "    output_key=\"output_text\",\n",
    ")"
   ]
  },
  {
   "cell_type": "code",
   "execution_count": null,
   "id": "77c456cc-2bf2-4309-b69b-034dfa387862",
   "metadata": {},
   "outputs": [],
   "source": [
    "refine_outputs = refine_chain({\"input_documents\": part2_docs})\n",
    "print(refine_outputs[\"output_text\"])"
   ]
  },
  {
   "cell_type": "markdown",
   "id": "c527716b-fbf2-447d-b0b3-f91ba6772916",
   "metadata": {},
   "source": [
    "### Part 3"
   ]
  },
  {
   "cell_type": "code",
   "execution_count": 83,
   "id": "e59703ed-12da-42b6-9682-be0582d80680",
   "metadata": {},
   "outputs": [
    {
     "data": {
      "text/plain": [
       "dict_keys(['Part I', 'Part II', 'Part III', 'Part IV', 'Part V', 'Part VI'])"
      ]
     },
     "execution_count": 83,
     "metadata": {},
     "output_type": "execute_result"
    }
   ],
   "source": [
    "parts_and_chapters.keys()"
   ]
  },
  {
   "cell_type": "code",
   "execution_count": 183,
   "id": "2bff918b-1e1e-428c-9b47-4f77c7590fe7",
   "metadata": {},
   "outputs": [
    {
     "name": "stdout",
     "output_type": "stream",
     "text": [
      "Part 3 has 6 chapters\n"
     ]
    }
   ],
   "source": [
    "Part3 = parts_and_chapters['Part III']\n",
    "print(f\"Part 3 has {len(Part3)} chapters\")"
   ]
  },
  {
   "cell_type": "code",
   "execution_count": null,
   "id": "87263e1a-1850-4ef0-9fc0-79d3e2aa53db",
   "metadata": {
    "scrolled": true
   },
   "outputs": [],
   "source": [
    "part3 = \"\".join(Part3)\n",
    "print(part3)"
   ]
  },
  {
   "cell_type": "code",
   "execution_count": 92,
   "id": "37279e1c-886d-414f-97d1-288707adde08",
   "metadata": {},
   "outputs": [
    {
     "name": "stdout",
     "output_type": "stream",
     "text": [
      "The part3 of book has 44944 tokens in it\n"
     ]
    }
   ],
   "source": [
    "num_tokens = llm.get_num_tokens(part3)\n",
    "print (f\"The part3 of book has {num_tokens} tokens in it\")"
   ]
  },
  {
   "cell_type": "code",
   "execution_count": 93,
   "id": "a521db32-8605-4a89-be1a-27a86f0dcb74",
   "metadata": {},
   "outputs": [],
   "source": [
    "text_splitter = RecursiveCharacterTextSplitter(separators=[\"\\n\\n\", \"\\n\"], chunk_size=10000, chunk_overlap=500)\n",
    "part3_docs = text_splitter.create_documents([part3])"
   ]
  },
  {
   "cell_type": "code",
   "execution_count": 94,
   "id": "782156b2-0df3-4a57-a993-c1bf4dc36038",
   "metadata": {},
   "outputs": [
    {
     "name": "stdout",
     "output_type": "stream",
     "text": [
      "Now we have 19 documents and the first one has 2720 tokens\n"
     ]
    }
   ],
   "source": [
    "num_docs = len(part3_docs)\n",
    "\n",
    "num_tokens_first_doc = llm.get_num_tokens(part3_docs[0].page_content)\n",
    "print (f\"Now we have {num_docs} documents and the first one has {num_tokens_first_doc} tokens\")"
   ]
  },
  {
   "cell_type": "code",
   "execution_count": 95,
   "id": "0abde7aa-9fdf-4ed2-803c-7f9d4d9b43e7",
   "metadata": {},
   "outputs": [],
   "source": [
    "# Define prompt\n",
    "prompt_template = \"\"\"\n",
    "        Given a text delimited by triple backquotes that contains part1 of the crime and punishment book, which is divided \n",
    "        into multiple chapters, generate a summary of part1 that covers all the key points and aspects of the story. \n",
    "        The summary should be written in a clear and engaging way.\n",
    "\n",
    "        ```{text}```\n",
    "\n",
    "        Summary of Part1:\n",
    "\"\"\"\n",
    "prompt = PromptTemplate(template=prompt_template, input_variables=[\"text\"])\n",
    "\n",
    "refine_template = (\n",
    "    \"Your job is to produce a final summary\\n\"\n",
    "    \"We have provided an existing summary up to a certain point: {existing_answer}\\n\"\n",
    "    \"We have the opportunity to refine the existing summary\"\n",
    "    \"(only if needed) with some more context below.\\n\"\n",
    "    \"------------\\n\"\n",
    "    \"{text}\\n\"\n",
    "    \"------------\\n\"\n",
    "    \"Given the new context, refine the original summary\"\n",
    "    \"If the context isn't useful, return the original summary.\"\n",
    ")\n",
    "refine_prompt = PromptTemplate.from_template(refine_template)"
   ]
  },
  {
   "cell_type": "code",
   "execution_count": 96,
   "id": "5fd7685b-c751-4a2f-9e97-e8c78aa73133",
   "metadata": {},
   "outputs": [],
   "source": [
    "refine_chain = load_summarize_chain(\n",
    "    llm=llm,\n",
    "    chain_type=\"refine\",\n",
    "    question_prompt=prompt,\n",
    "    refine_prompt=refine_prompt,\n",
    "    input_key=\"input_documents\",\n",
    "    output_key=\"output_text\",\n",
    ")"
   ]
  },
  {
   "cell_type": "code",
   "execution_count": null,
   "id": "1a057fb4-8e94-4220-b9a2-5678241e7fa9",
   "metadata": {},
   "outputs": [],
   "source": [
    "refine_outputs = refine_chain({\"input_documents\": part3_docs})\n",
    "print(refine_outputs[\"output_text\"])"
   ]
  },
  {
   "cell_type": "markdown",
   "id": "98ef5606-8987-4b89-a180-6b538b65e888",
   "metadata": {},
   "source": [
    "### Part 4"
   ]
  },
  {
   "cell_type": "code",
   "execution_count": 97,
   "id": "dcded7aa-6242-4396-82d5-510707dbaea8",
   "metadata": {},
   "outputs": [
    {
     "data": {
      "text/plain": [
       "dict_keys(['Part I', 'Part II', 'Part III', 'Part IV', 'Part V', 'Part VI'])"
      ]
     },
     "execution_count": 97,
     "metadata": {},
     "output_type": "execute_result"
    }
   ],
   "source": [
    "parts_and_chapters.keys()"
   ]
  },
  {
   "cell_type": "code",
   "execution_count": 184,
   "id": "ddfaf01c-b659-49d4-9c93-72fd36052295",
   "metadata": {},
   "outputs": [
    {
     "name": "stdout",
     "output_type": "stream",
     "text": [
      "Part 4 has 6 chapters\n"
     ]
    }
   ],
   "source": [
    "Part4 = parts_and_chapters['Part IV']\n",
    "print(f\"Part 4 has {len(Part4)} chapters\")"
   ]
  },
  {
   "cell_type": "code",
   "execution_count": null,
   "id": "ed7dc01a-7e24-419d-8fba-e46d56059073",
   "metadata": {
    "scrolled": true
   },
   "outputs": [],
   "source": [
    "part4 = \"\".join(Part4)\n",
    "print(part4)"
   ]
  },
  {
   "cell_type": "code",
   "execution_count": 102,
   "id": "b300b167-16ae-4eb8-a2a5-b136cf26753b",
   "metadata": {},
   "outputs": [
    {
     "name": "stdout",
     "output_type": "stream",
     "text": [
      "The part4 of book has 41729 tokens in it\n"
     ]
    }
   ],
   "source": [
    "num_tokens = llm.get_num_tokens(part4)\n",
    "\n",
    "print (f\"The part4 of book has {num_tokens} tokens in it\")"
   ]
  },
  {
   "cell_type": "code",
   "execution_count": 103,
   "id": "5ae6318b-ed24-42fb-bbbc-13c53e0db4cd",
   "metadata": {},
   "outputs": [],
   "source": [
    "text_splitter = RecursiveCharacterTextSplitter(separators=[\"\\n\\n\", \"\\n\"], chunk_size=10000, chunk_overlap=500)\n",
    "part4_docs = text_splitter.create_documents([part4])"
   ]
  },
  {
   "cell_type": "code",
   "execution_count": 104,
   "id": "ada06938-98ef-49bb-bcaf-dfbbf31d593a",
   "metadata": {},
   "outputs": [
    {
     "name": "stdout",
     "output_type": "stream",
     "text": [
      "Now we have 17 documents and the first one has 2587 tokens\n"
     ]
    }
   ],
   "source": [
    "num_docs = len(part4_docs)\n",
    "\n",
    "num_tokens_first_doc = llm.get_num_tokens(part4_docs[0].page_content)\n",
    "print (f\"Now we have {num_docs} documents and the first one has {num_tokens_first_doc} tokens\")"
   ]
  },
  {
   "cell_type": "code",
   "execution_count": 107,
   "id": "849c94a9-198e-46d8-9b40-2ff9acbd8d0d",
   "metadata": {},
   "outputs": [],
   "source": [
    "# Define prompt\n",
    "prompt_template = \"\"\"\n",
    "        Given a text delimited by triple backquotes that contains part1 of the crime and punishment book, which is divided \n",
    "        into multiple chapters, generate a summary of part1 that covers all the key points and aspects of the story. \n",
    "        The summary should be written in a clear and engaging way.\n",
    "\n",
    "        ```{text}```\n",
    "\n",
    "        Summary of Part1:\n",
    "\"\"\"\n",
    "prompt = PromptTemplate(template=prompt_template, input_variables=[\"text\"])\n",
    "\n",
    "refine_template = (\n",
    "    \"Your job is to produce a final summary\\n\"\n",
    "    \"We have provided an existing summary up to a certain point: {existing_answer}\\n\"\n",
    "    \"We have the opportunity to refine the existing summary\"\n",
    "    \"(only if needed) with some more context below.\\n\"\n",
    "    \"------------\\n\"\n",
    "    \"{text}\\n\"\n",
    "    \"------------\\n\"\n",
    "    \"Given the new context, refine the original summary\"\n",
    "    \"If the context isn't useful, return the original summary.\"\n",
    ")\n",
    "refine_prompt = PromptTemplate.from_template(refine_template)"
   ]
  },
  {
   "cell_type": "code",
   "execution_count": 106,
   "id": "cce483d7-b1dc-4096-ba60-38b3f654f509",
   "metadata": {},
   "outputs": [],
   "source": [
    "refine_chain = load_summarize_chain(\n",
    "    llm=llm,\n",
    "    chain_type=\"refine\",\n",
    "    question_prompt=prompt,\n",
    "    refine_prompt=refine_prompt,\n",
    "    input_key=\"input_documents\",\n",
    "    output_key=\"output_text\",\n",
    ")"
   ]
  },
  {
   "cell_type": "code",
   "execution_count": null,
   "id": "b3909b23-3ad4-426e-819a-ddeeb3b0e309",
   "metadata": {},
   "outputs": [],
   "source": [
    "refine_outputs = refine_chain({\"input_documents\": part4_docs})\n",
    "print(refine_outputs[\"output_text\"])"
   ]
  },
  {
   "cell_type": "markdown",
   "id": "bd04c6c7-0524-42be-b89a-4acd9df4c196",
   "metadata": {},
   "source": [
    "### Part 5"
   ]
  },
  {
   "cell_type": "code",
   "execution_count": 108,
   "id": "76085abd-54ff-4694-97b8-dc77c9bd1a35",
   "metadata": {},
   "outputs": [
    {
     "data": {
      "text/plain": [
       "dict_keys(['Part I', 'Part II', 'Part III', 'Part IV', 'Part V', 'Part VI'])"
      ]
     },
     "execution_count": 108,
     "metadata": {},
     "output_type": "execute_result"
    }
   ],
   "source": [
    "parts_and_chapters.keys()"
   ]
  },
  {
   "cell_type": "code",
   "execution_count": 185,
   "id": "f319ab80-c48f-46ee-9f18-75f99c5e7e30",
   "metadata": {},
   "outputs": [
    {
     "name": "stdout",
     "output_type": "stream",
     "text": [
      "Part 5 has 5 chapters\n"
     ]
    }
   ],
   "source": [
    "Part5 = parts_and_chapters['Part V']\n",
    "print(f\"Part 5 has {len(Part5)} chapters\")"
   ]
  },
  {
   "cell_type": "code",
   "execution_count": null,
   "id": "dee91423-5b10-4cb9-b0ae-38b3757b9b08",
   "metadata": {
    "scrolled": true
   },
   "outputs": [],
   "source": [
    "part5 = \"\".join(Part5)\n",
    "print(part5)"
   ]
  },
  {
   "cell_type": "code",
   "execution_count": 111,
   "id": "1e9f5717-2fcc-4272-9118-0357c68799d3",
   "metadata": {},
   "outputs": [
    {
     "name": "stdout",
     "output_type": "stream",
     "text": [
      "The part5 of book has 41495 tokens in it\n"
     ]
    }
   ],
   "source": [
    "num_tokens = llm.get_num_tokens(part5)\n",
    "\n",
    "print (f\"The part5 of book has {num_tokens} tokens in it\")"
   ]
  },
  {
   "cell_type": "code",
   "execution_count": 112,
   "id": "af305efb-fd0e-41f9-abad-c15032d75c48",
   "metadata": {},
   "outputs": [],
   "source": [
    "text_splitter = RecursiveCharacterTextSplitter(separators=[\"\\n\\n\", \"\\n\"], chunk_size=10000, chunk_overlap=500)\n",
    "part5_docs = text_splitter.create_documents([part5])"
   ]
  },
  {
   "cell_type": "code",
   "execution_count": 113,
   "id": "aff347f6-dc7f-45ed-801b-36149e2c4fb3",
   "metadata": {},
   "outputs": [
    {
     "name": "stdout",
     "output_type": "stream",
     "text": [
      "Now we have 17 documents and the first one has 2428 tokens\n"
     ]
    }
   ],
   "source": [
    "num_docs = len(part5_docs)\n",
    "\n",
    "num_tokens_first_doc = llm.get_num_tokens(part5_docs[0].page_content)\n",
    "print (f\"Now we have {num_docs} documents and the first one has {num_tokens_first_doc} tokens\")"
   ]
  },
  {
   "cell_type": "code",
   "execution_count": 114,
   "id": "f4a57d35-460d-4101-8300-bca917f931cb",
   "metadata": {},
   "outputs": [],
   "source": [
    "# Define prompt\n",
    "prompt_template = \"\"\"\n",
    "        Given a text delimited by triple backquotes that contains part1 of the crime and punishment book, which is divided \n",
    "        into multiple chapters, generate a summary of part1 that covers all the key points and aspects of the story. \n",
    "        The summary should be written in a clear and engaging way.\n",
    "\n",
    "        ```{text}```\n",
    "\n",
    "        Summary of Part1:\n",
    "\"\"\"\n",
    "prompt = PromptTemplate(template=prompt_template, input_variables=[\"text\"])\n",
    "\n",
    "refine_template = (\n",
    "    \"Your job is to produce a final summary\\n\"\n",
    "    \"We have provided an existing summary up to a certain point: {existing_answer}\\n\"\n",
    "    \"We have the opportunity to refine the existing summary\"\n",
    "    \"(only if needed) with some more context below.\\n\"\n",
    "    \"------------\\n\"\n",
    "    \"{text}\\n\"\n",
    "    \"------------\\n\"\n",
    "    \"Given the new context, refine the original summary\"\n",
    "    \"If the context isn't useful, return the original summary.\"\n",
    ")\n",
    "refine_prompt = PromptTemplate.from_template(refine_template)"
   ]
  },
  {
   "cell_type": "code",
   "execution_count": 115,
   "id": "189ca9f7-391d-436f-8d9b-2339fa14c6ac",
   "metadata": {},
   "outputs": [],
   "source": [
    "refine_chain = load_summarize_chain(\n",
    "    llm=llm,\n",
    "    chain_type=\"refine\",\n",
    "    question_prompt=prompt,\n",
    "    refine_prompt=refine_prompt,\n",
    "    input_key=\"input_documents\",\n",
    "    output_key=\"output_text\",\n",
    ")"
   ]
  },
  {
   "cell_type": "code",
   "execution_count": null,
   "id": "b4797456-cff1-4a8c-800d-75f5873c12eb",
   "metadata": {},
   "outputs": [],
   "source": [
    "refine_outputs = refine_chain({\"input_documents\": part5_docs})\n",
    "print(refine_outputs[\"output_text\"])"
   ]
  },
  {
   "cell_type": "markdown",
   "id": "37fa5339-6d8d-4a05-b187-787fcb4d8a04",
   "metadata": {},
   "source": [
    "### Part 6"
   ]
  },
  {
   "cell_type": "code",
   "execution_count": 116,
   "id": "7b6fece1-d234-4c80-9b39-900bd45229d5",
   "metadata": {},
   "outputs": [
    {
     "data": {
      "text/plain": [
       "dict_keys(['Part I', 'Part II', 'Part III', 'Part IV', 'Part V', 'Part VI'])"
      ]
     },
     "execution_count": 116,
     "metadata": {},
     "output_type": "execute_result"
    }
   ],
   "source": [
    "parts_and_chapters.keys()"
   ]
  },
  {
   "cell_type": "code",
   "execution_count": 186,
   "id": "64a52019-113f-40b0-832b-30701cc865bb",
   "metadata": {},
   "outputs": [
    {
     "name": "stdout",
     "output_type": "stream",
     "text": [
      "Part 6 has 8 chapters\n"
     ]
    }
   ],
   "source": [
    "Part6 = parts_and_chapters['Part VI']\n",
    "print(f\"Part 6 has {len(Part6)} chapters\")"
   ]
  },
  {
   "cell_type": "code",
   "execution_count": null,
   "id": "67997c64-5a44-4b73-8c8f-6bc6c093b4a0",
   "metadata": {
    "scrolled": true
   },
   "outputs": [],
   "source": [
    "part6 = \"\".join(Part6)\n",
    "print(part6)"
   ]
  },
  {
   "cell_type": "code",
   "execution_count": 119,
   "id": "9fb13caf-be44-4c96-a0b6-a25c6b6b788d",
   "metadata": {},
   "outputs": [
    {
     "name": "stdout",
     "output_type": "stream",
     "text": [
      "The part6 of book has 51935 tokens in it\n"
     ]
    }
   ],
   "source": [
    "num_tokens = llm.get_num_tokens(part6)\n",
    "\n",
    "print (f\"The part6 of book has {num_tokens} tokens in it\")"
   ]
  },
  {
   "cell_type": "code",
   "execution_count": 120,
   "id": "84a46a90-bd2e-4ceb-99f7-a92e89b5000b",
   "metadata": {},
   "outputs": [],
   "source": [
    "text_splitter = RecursiveCharacterTextSplitter(separators=[\"\\n\\n\", \"\\n\"], chunk_size=10000, chunk_overlap=500)\n",
    "part6_docs = text_splitter.create_documents([part6])"
   ]
  },
  {
   "cell_type": "code",
   "execution_count": 121,
   "id": "ca028d22-42e5-43e7-b518-1bafb2e6375a",
   "metadata": {},
   "outputs": [
    {
     "name": "stdout",
     "output_type": "stream",
     "text": [
      "Now we have 22 documents and the first one has 2496 tokens\n"
     ]
    }
   ],
   "source": [
    "num_docs = len(part6_docs)\n",
    "\n",
    "num_tokens_first_doc = llm.get_num_tokens(part6_docs[0].page_content)\n",
    "print (f\"Now we have {num_docs} documents and the first one has {num_tokens_first_doc} tokens\")"
   ]
  },
  {
   "cell_type": "code",
   "execution_count": 122,
   "id": "15bf060b-2c8e-437a-bb8c-efb6a3e4fa25",
   "metadata": {},
   "outputs": [],
   "source": [
    "# Define prompt\n",
    "prompt_template = \"\"\"\n",
    "        Given a text delimited by triple backquotes that contains part1 of the crime and punishment book, which is divided \n",
    "        into multiple chapters, generate a summary of part1 that covers all the key points and aspects of the story. \n",
    "        The summary should be written in a clear and engaging way.\n",
    "\n",
    "        ```{text}```\n",
    "\n",
    "        Summary of Part1:\n",
    "\"\"\"\n",
    "prompt = PromptTemplate(template=prompt_template, input_variables=[\"text\"])\n",
    "\n",
    "refine_template = (\n",
    "    \"Your job is to produce a final summary\\n\"\n",
    "    \"We have provided an existing summary up to a certain point: {existing_answer}\\n\"\n",
    "    \"We have the opportunity to refine the existing summary\"\n",
    "    \"(only if needed) with some more context below.\\n\"\n",
    "    \"------------\\n\"\n",
    "    \"{text}\\n\"\n",
    "    \"------------\\n\"\n",
    "    \"Given the new context, refine the original summary\"\n",
    "    \"If the context isn't useful, return the original summary.\"\n",
    ")\n",
    "refine_prompt = PromptTemplate.from_template(refine_template)"
   ]
  },
  {
   "cell_type": "code",
   "execution_count": 123,
   "id": "59e1bc5b-4553-4c4e-a040-e8cd78e0a498",
   "metadata": {},
   "outputs": [],
   "source": [
    "refine_chain = load_summarize_chain(\n",
    "    llm=llm,\n",
    "    chain_type=\"refine\",\n",
    "    question_prompt=prompt,\n",
    "    refine_prompt=refine_prompt,\n",
    "    input_key=\"input_documents\",\n",
    "    output_key=\"output_text\",\n",
    ")"
   ]
  },
  {
   "cell_type": "code",
   "execution_count": null,
   "id": "2d84945c-388e-4b84-982a-d3d3630785cb",
   "metadata": {},
   "outputs": [],
   "source": [
    "refine_outputs = refine_chain({\"input_documents\": part6_docs})\n",
    "print(refine_outputs[\"output_text\"])"
   ]
  },
  {
   "cell_type": "markdown",
   "id": "45116759-a5db-4ff7-9f3e-bfb370191e7d",
   "metadata": {},
   "source": [
    "### Epilogue"
   ]
  },
  {
   "cell_type": "code",
   "execution_count": null,
   "id": "d0eba2ce-f474-4f86-b5d3-c82504a28b26",
   "metadata": {
    "scrolled": true
   },
   "outputs": [],
   "source": [
    "# The epilogue starts from the last 24 pages of the book to the end.\n",
    "epilogue_content = preprocessed_pages[-24:]\n",
    "epilogue_content = [page.page_content for page in epilogue_content]\n",
    "epilogue = ''.join(epilogue_content)\n",
    "print(epilogue)"
   ]
  },
  {
   "cell_type": "code",
   "execution_count": 127,
   "id": "f3e0fe36-c6a6-4f53-ad30-8391f93719b5",
   "metadata": {},
   "outputs": [
    {
     "name": "stdout",
     "output_type": "stream",
     "text": [
      "This epilogue has 8485 tokens in it\n"
     ]
    }
   ],
   "source": [
    "num_tokens = llm.get_num_tokens(epilogue)\n",
    "\n",
    "print(f\"This epilogue has {num_tokens} tokens in it\")"
   ]
  },
  {
   "cell_type": "code",
   "execution_count": 128,
   "id": "babdbaee-f984-436a-b87b-b90eb9a2aedb",
   "metadata": {},
   "outputs": [],
   "source": [
    "text_splitter = RecursiveCharacterTextSplitter(separators=[\"\\n\\n\", \"\\n\"], chunk_size=10000, chunk_overlap=500)\n",
    "epilogue_docs = text_splitter.create_documents([epilogue])"
   ]
  },
  {
   "cell_type": "code",
   "execution_count": 129,
   "id": "65fc1ca8-cbc8-4be7-886c-a584173efea0",
   "metadata": {},
   "outputs": [
    {
     "name": "stdout",
     "output_type": "stream",
     "text": [
      "Now we have 4 documents and the first one has 2320 tokens\n"
     ]
    }
   ],
   "source": [
    "num_docs = len(epilogue_docs)\n",
    "\n",
    "num_tokens_first_doc = llm.get_num_tokens(epilogue_docs[0].page_content)\n",
    "print (f\"Now we have {num_docs} documents and the first one has {num_tokens_first_doc} tokens\")"
   ]
  },
  {
   "cell_type": "code",
   "execution_count": 130,
   "id": "c5cb4229-db00-4774-8269-104ba625a99c",
   "metadata": {},
   "outputs": [],
   "source": [
    "# Define prompt\n",
    "prompt_template = \"\"\"\n",
    "        Given a text delimited by triple backquotes that contains part1 of the crime and punishment book, which is divided \n",
    "        into multiple chapters, generate a summary of part1 that covers all the key points and aspects of the story. \n",
    "        The summary should be written in a clear and engaging way.\n",
    "\n",
    "        ```{text}```\n",
    "\n",
    "        Summary of Part1:\n",
    "\"\"\"\n",
    "prompt = PromptTemplate(template=prompt_template, input_variables=[\"text\"])\n",
    "\n",
    "refine_template = (\n",
    "    \"Your job is to produce a final summary\\n\"\n",
    "    \"We have provided an existing summary up to a certain point: {existing_answer}\\n\"\n",
    "    \"We have the opportunity to refine the existing summary\"\n",
    "    \"(only if needed) with some more context below.\\n\"\n",
    "    \"------------\\n\"\n",
    "    \"{text}\\n\"\n",
    "    \"------------\\n\"\n",
    "    \"Given the new context, refine the original summary\"\n",
    "    \"If the context isn't useful, return the original summary.\"\n",
    ")\n",
    "refine_prompt = PromptTemplate.from_template(refine_template)"
   ]
  },
  {
   "cell_type": "code",
   "execution_count": 131,
   "id": "9b646eff-4731-4ba7-b802-9c9bfef3229e",
   "metadata": {},
   "outputs": [],
   "source": [
    "refine_chain = load_summarize_chain(\n",
    "    llm=llm,\n",
    "    chain_type=\"refine\",\n",
    "    question_prompt=prompt,\n",
    "    refine_prompt=refine_prompt,\n",
    "    input_key=\"input_documents\",\n",
    "    output_key=\"output_text\",\n",
    ")"
   ]
  },
  {
   "cell_type": "code",
   "execution_count": null,
   "id": "f05f83d7-3fda-4d6f-b363-488baf8ff899",
   "metadata": {},
   "outputs": [],
   "source": [
    "refine_outputs = refine_chain({\"input_documents\": epilogue_docs})\n",
    "print(refine_outputs[\"output_text\"])"
   ]
  },
  {
   "cell_type": "code",
   "execution_count": null,
   "id": "3f875dbc-d7ca-4490-a11b-7c38e091c224",
   "metadata": {},
   "outputs": [],
   "source": []
  }
 ],
 "metadata": {
  "kernelspec": {
   "display_name": "Python 3 (ipykernel)",
   "language": "python",
   "name": "python3"
  },
  "language_info": {
   "codemirror_mode": {
    "name": "ipython",
    "version": 3
   },
   "file_extension": ".py",
   "mimetype": "text/x-python",
   "name": "python",
   "nbconvert_exporter": "python",
   "pygments_lexer": "ipython3",
   "version": "3.11.6"
  }
 },
 "nbformat": 4,
 "nbformat_minor": 5
}
