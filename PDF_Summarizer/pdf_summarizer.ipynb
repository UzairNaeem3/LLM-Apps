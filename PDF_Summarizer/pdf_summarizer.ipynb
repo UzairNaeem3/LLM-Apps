{
 "cells": [
  {
   "cell_type": "code",
   "execution_count": 1,
   "id": "d2bc6720-f872-4c90-99c3-d2823ea865a2",
   "metadata": {},
   "outputs": [
    {
     "data": {
      "text/plain": [
       "True"
      ]
     },
     "execution_count": 1,
     "metadata": {},
     "output_type": "execute_result"
    }
   ],
   "source": [
    "import openai\n",
    "from dotenv import load_dotenv\n",
    "import os\n",
    "import re\n",
    "\n",
    "load_dotenv()"
   ]
  },
  {
   "cell_type": "code",
   "execution_count": 103,
   "id": "b2c5d89a-e74a-4bcf-90b1-3d74519f8798",
   "metadata": {},
   "outputs": [],
   "source": [
    "openai_api_key = os.getenv(\"OPENAI_API_KEY\")"
   ]
  },
  {
   "cell_type": "code",
   "execution_count": 14,
   "id": "a4d467bd-80d5-4a18-ae20-ba84acdf0d55",
   "metadata": {},
   "outputs": [],
   "source": [
    "from langchain.document_loaders import PyPDFLoader"
   ]
  },
  {
   "cell_type": "code",
   "execution_count": 53,
   "id": "0a10b7be-76de-4dc7-b1f3-4555aa14fc2c",
   "metadata": {},
   "outputs": [],
   "source": [
    "# Load the book\n",
    "loader = PyPDFLoader(\"pdf/crime-and-punishment.pdf\")\n",
    "pages = loader.load()"
   ]
  },
  {
   "cell_type": "code",
   "execution_count": 54,
   "id": "ab55c7a1-4246-4b2f-b484-d5d38ab674e6",
   "metadata": {},
   "outputs": [
    {
     "name": "stdout",
     "output_type": "stream",
     "text": [
      "This book has total of 767 pages.\n"
     ]
    }
   ],
   "source": [
    "print (f\"This book has total of {len(pages)} pages.\")"
   ]
  },
  {
   "cell_type": "code",
   "execution_count": 55,
   "id": "4bd11279-b533-4d26-97a7-8fafaf24446c",
   "metadata": {},
   "outputs": [],
   "source": [
    "# First page has unnecessary content\n",
    "pages = pages[1:]"
   ]
  },
  {
   "cell_type": "code",
   "execution_count": 56,
   "id": "ea0774dd-6d5c-45c2-865a-b97eb60cf1f3",
   "metadata": {},
   "outputs": [],
   "source": [
    "# Define a list of texts to remove\n",
    "texts_to_remove = ['Crime and Punishment', 'Free eBooks at Planet eBook.com', '\u0018']\n",
    "\n",
    "# Define a pattern for page numbers and unwanted text\n",
    "pattern_page_numbers = \"^\\d+\"\n",
    "pattern_unwanted_text = '|'.join(texts_to_remove)\n",
    "\n",
    "\n",
    "regex_page_numbers = re.compile(pattern_page_numbers)\n",
    "regex_unwanted_text = re.compile(pattern_unwanted_text, re.IGNORECASE)"
   ]
  },
  {
   "cell_type": "code",
   "execution_count": 57,
   "id": "15cec0e0-c048-443c-a71b-a7bdfaabf3d3",
   "metadata": {
    "scrolled": true
   },
   "outputs": [],
   "source": [
    "for page in pages:\n",
    "    page.page_content = regex_unwanted_text.sub('', page.page_content)\n",
    "    page.page_content = page.page_content.strip()\n",
    "    page.page_content = regex_page_numbers.sub('', page.page_content)"
   ]
  },
  {
   "cell_type": "code",
   "execution_count": 67,
   "id": "e7db3d19-dbdb-4166-817b-63d0144d3447",
   "metadata": {
    "scrolled": true
   },
   "outputs": [
    {
     "name": "stdout",
     "output_type": "stream",
     "text": [
      "Chapter I\n",
      "On an exceptionally hot evening early in July a young \n",
      "man came out of the garret in which he lodged in S. \n",
      "Place and walked slowly, as though in hesitation, towards \n",
      "K. bridge.\n",
      "He had successfully avoided meeting his landlady on the \n",
      "staircase. His garret was under the roof of a high, five-sto -\n",
      "ried house and was more like a cupboard than a room. The \n",
      "landlady who provided him with garret, dinners, and at -\n",
      "tendance, lived on the floor below, and every time he went \n",
      "out he was obliged to pass her kitchen, the door of which \n",
      "invariably stood open. And each time he passed, the young \n",
      "man had a sick, frightened feeling, which made him scowl \n",
      "and feel ashamed. He was hopelessly in debt to his landlady, \n",
      "and was afraid of meeting her.\n",
      "This was not because he was cowardly and abject, quite \n",
      "the contrary; but for some time past he had been in an over -\n",
      "strained irritable condition, verging on hypochondria. He \n",
      "had become so completely absorbed in himself, and iso -\n",
      "lated from his fellows that he dreaded meeting, not only \n",
      "his landlady, but anyone at all. He was crushed by poverty, \n",
      "but the anxieties of his position had of late ceased to weigh \n",
      "upon him. He had given up attending to matters of practi -\n",
      "cal importance; he had lost all desire to do so. Nothing that \n",
      "any landlady could do had a real terror for him. But to be\n"
     ]
    }
   ],
   "source": [
    "print(pages[5].page_content)"
   ]
  },
  {
   "cell_type": "code",
   "execution_count": 68,
   "id": "484f8589-6dab-473f-b62c-bf9e50a5c238",
   "metadata": {},
   "outputs": [],
   "source": [
    "import copy\n",
    "pages_copy = copy.deepcopy(pages)"
   ]
  },
  {
   "cell_type": "code",
   "execution_count": 69,
   "id": "5955aaeb-ecf6-4a99-bc25-2dd6bac57b40",
   "metadata": {},
   "outputs": [],
   "source": [
    "preprocessed_pages = []\n",
    "\n",
    "for i, page in enumerate(pages_copy):\n",
    "    # Strip the page content of any leading or trailing whitespace\n",
    "    page.page_content = page.page_content.strip()\n",
    "    # If the page has less than 100 characters, check if it is a part title\n",
    "    if len(page.page_content) < 100:\n",
    "        # If the page starts with \"PART\" or \"Part\", append it to the next page\n",
    "        if page.page_content.startswith(\"Part\") or page.page_content.startswith(\"PART\"):\n",
    "            # If the current page is not the last page, get the next page and add the current page to it\n",
    "            if i < len(pages_copy) - 1:\n",
    "                next_page = pages_copy.pop(i + 1)\n",
    "                next_page.page_content = page.page_content + next_page.page_content\n",
    "                # Append the updated next page to the preprocessed list\n",
    "                preprocessed_pages.append(next_page)\n",
    "        # Otherwise, append it to the previous page\n",
    "        else:\n",
    "            # If the preprocessed list is not empty, get the last page and add the current page to it\n",
    "            if preprocessed_pages:\n",
    "                last_page = preprocessed_pages.pop()\n",
    "                last_page.page_content += page.page_content\n",
    "                # Append the updated last page to the preprocessed list\n",
    "                preprocessed_pages.append(last_page)\n",
    "    # Otherwise, append the page as it is to the preprocessed list\n",
    "    else:\n",
    "        preprocessed_pages.append(page)"
   ]
  },
  {
   "cell_type": "code",
   "execution_count": 159,
   "id": "d59a4ce1-2ccb-4067-b72d-8995dcfa0f73",
   "metadata": {
    "scrolled": true
   },
   "outputs": [
    {
     "name": "stdout",
     "output_type": "stream",
     "text": [
      "Translator’s Preface\n",
      "A few words about Dostoevsky himself may help the Eng -\n",
      "lish reader to understand his work.\n",
      "Dostoevsky was the son of a doctor. His parents were \n",
      "very hard- working and deeply religious people, but so poor \n",
      "that they lived with their five children in only two rooms. \n",
      "The father and mother spent their evenings in reading aloud \n",
      "to their children, generally from books of a serious charac -\n",
      "ter.\n",
      "Though always sickly and delicate Dostoevsky came out \n",
      "third in the final examination of the Petersburg school of \n",
      "Engineering. There he had already begun his first work, \n",
      "‘Poor Folk.’\n",
      "This story was published by the poet Nekrassov in his \n",
      "review and was received with acclamations. The shy, un -\n",
      "known youth found himself instantly something of a \n",
      "celebrity. A brilliant and successful career seemed to open \n",
      "before him, but those hopes were soon dashed. In 1849 he \n",
      "was arrested.\n",
      "Though neither by temperament nor conviction a revolu -\n",
      "tionist, Dostoevsky was one of a little group of young men \n",
      "who met together to read Fourier and Proudhon. He was ac -\n",
      "cused of ‘taking part in conversations against the censorship, \n",
      "of reading a letter from Byelinsky to Gogol, and of knowing \n",
      "of the intention to set up a printing press.’ Under Nicholas I.\n"
     ]
    }
   ],
   "source": [
    "print(preprocessed_pages[0].page_content)"
   ]
  },
  {
   "cell_type": "code",
   "execution_count": 85,
   "id": "9a66df28-69a0-41b1-8f38-555f1ea2aca3",
   "metadata": {},
   "outputs": [
    {
     "name": "stdout",
     "output_type": "stream",
     "text": [
      "After some cleaning this book has total of 756 pages.\n"
     ]
    }
   ],
   "source": [
    "print (f\"After some cleaning this book has total of {len(preprocessed_pages)} pages.\")"
   ]
  },
  {
   "cell_type": "code",
   "execution_count": 88,
   "id": "5152dfee-9c7c-4589-bf0f-5db49c846e97",
   "metadata": {},
   "outputs": [],
   "source": [
    "# Combine the pages, and replace the tabs with spaces\n",
    "text = \"\"\n",
    "\n",
    "for page in preprocessed_pages:\n",
    "    text += page.page_content\n",
    "    \n",
    "text = text.replace('\\t', ' ')"
   ]
  },
  {
   "cell_type": "code",
   "execution_count": 90,
   "id": "a68af813-10ed-449c-be36-50cb7eeefd69",
   "metadata": {},
   "outputs": [],
   "source": [
    "from langchain import OpenAI"
   ]
  },
  {
   "cell_type": "code",
   "execution_count": 91,
   "id": "a7accfff-3882-4145-b200-bf342364951c",
   "metadata": {},
   "outputs": [],
   "source": [
    "llm = OpenAI(temperature=0, openai_api_key=openai_api_key)"
   ]
  },
  {
   "cell_type": "code",
   "execution_count": 104,
   "id": "4c780f7e-c087-4326-85f4-9917f141aa70",
   "metadata": {},
   "outputs": [
    {
     "name": "stdout",
     "output_type": "stream",
     "text": [
      "This book has 334889 tokens in it\n"
     ]
    }
   ],
   "source": [
    "num_tokens = llm.get_num_tokens(text)\n",
    "\n",
    "print (f\"This book has {num_tokens} tokens in it\")"
   ]
  },
  {
   "cell_type": "code",
   "execution_count": 95,
   "id": "ccf63af1-49b4-4845-b6a9-33b30199e049",
   "metadata": {},
   "outputs": [],
   "source": [
    "# Loaders\n",
    "from langchain.schema import Document\n",
    "\n",
    "# Splitters\n",
    "from langchain.text_splitter import RecursiveCharacterTextSplitter\n",
    "\n",
    "# Model\n",
    "from langchain.chat_models import ChatOpenAI\n",
    "\n",
    "# Embedding Support\n",
    "from langchain.vectorstores import FAISS\n",
    "from langchain.embeddings import OpenAIEmbeddings\n",
    "\n",
    "# Summarizer we'll use for Map Reduce\n",
    "from langchain.chains.summarize import load_summarize_chain\n",
    "\n",
    "# Data Science\n",
    "import numpy as np\n",
    "from sklearn.cluster import KMeans"
   ]
  },
  {
   "cell_type": "code",
   "execution_count": 100,
   "id": "1339635b-0aca-46a1-a887-655532dd3a89",
   "metadata": {},
   "outputs": [],
   "source": [
    "text_splitter = RecursiveCharacterTextSplitter(separators=[\"\\n\\n\", \"\\n\", \"\\t\"], chunk_size=12000, chunk_overlap=3000)\n",
    "\n",
    "docs = text_splitter.create_documents([text])"
   ]
  },
  {
   "cell_type": "code",
   "execution_count": 101,
   "id": "af5cdb83-575e-4ca0-94d3-1fcf0372d3d1",
   "metadata": {},
   "outputs": [
    {
     "name": "stdout",
     "output_type": "stream",
     "text": [
      "Now our book is split up into 128 documents\n"
     ]
    }
   ],
   "source": [
    "num_documents = len(docs)\n",
    "\n",
    "print (f\"Now our book is split up into {num_documents} documents\")"
   ]
  },
  {
   "cell_type": "code",
   "execution_count": 115,
   "id": "a1d9afeb-ae34-4d96-a460-bbdf0842942b",
   "metadata": {
    "scrolled": true
   },
   "outputs": [],
   "source": [
    "embeddings = OpenAIEmbeddings(openai_api_key=openai_api_key)\n",
    "\n",
    "vectors_first25 = embeddings.embed_documents([x.page_content for x in docs[:25]])"
   ]
  },
  {
   "cell_type": "code",
   "execution_count": 118,
   "id": "5528151b-bae0-4d5d-a5e7-c810f88feafc",
   "metadata": {},
   "outputs": [],
   "source": [
    "vectors_25to50 = embeddings.embed_documents([x.page_content for x in docs[25:50]])"
   ]
  },
  {
   "cell_type": "code",
   "execution_count": 119,
   "id": "ca26428e-6d56-4547-8c12-fc220696638f",
   "metadata": {},
   "outputs": [],
   "source": [
    "vectors_50to75 = embeddings.embed_documents([x.page_content for x in docs[50:75]])"
   ]
  },
  {
   "cell_type": "code",
   "execution_count": 123,
   "id": "c2aed274-16c6-470e-a0da-32d341f2044a",
   "metadata": {},
   "outputs": [],
   "source": [
    "vectors_75to100 = embeddings.embed_documents([x.page_content for x in docs[75:100]])"
   ]
  },
  {
   "cell_type": "code",
   "execution_count": 124,
   "id": "c612ffe4-88fe-4af8-aed5-14078a7dc88a",
   "metadata": {},
   "outputs": [],
   "source": [
    "vectors_100to128 = embeddings.embed_documents([x.page_content for x in docs[100:]])"
   ]
  },
  {
   "cell_type": "code",
   "execution_count": 160,
   "id": "7e30c2f1-1b26-4b52-bf0b-e92de8df64e9",
   "metadata": {},
   "outputs": [],
   "source": [
    "vectors = vectors_first25 + vectors_25to50 + vectors_50to75 + vectors_75to100 + vectors_100to128"
   ]
  },
  {
   "cell_type": "code",
   "execution_count": 146,
   "id": "799345a1-fb79-4102-893f-4860b7fbf03d",
   "metadata": {},
   "outputs": [],
   "source": [
    "import pandas as pd"
   ]
  },
  {
   "cell_type": "code",
   "execution_count": 168,
   "id": "e81a6013-0fed-43b0-be72-ebe000898d7a",
   "metadata": {},
   "outputs": [
    {
     "data": {
      "text/html": [
       "<div>\n",
       "<style scoped>\n",
       "    .dataframe tbody tr th:only-of-type {\n",
       "        vertical-align: middle;\n",
       "    }\n",
       "\n",
       "    .dataframe tbody tr th {\n",
       "        vertical-align: top;\n",
       "    }\n",
       "\n",
       "    .dataframe thead th {\n",
       "        text-align: right;\n",
       "    }\n",
       "</style>\n",
       "<table border=\"1\" class=\"dataframe\">\n",
       "  <thead>\n",
       "    <tr style=\"text-align: right;\">\n",
       "      <th></th>\n",
       "      <th>embeddings</th>\n",
       "    </tr>\n",
       "  </thead>\n",
       "  <tbody>\n",
       "    <tr>\n",
       "      <th>doc1</th>\n",
       "      <td>[0.011597242568533046, 0.0003537849233094882, ...</td>\n",
       "    </tr>\n",
       "    <tr>\n",
       "      <th>doc2</th>\n",
       "      <td>[-0.012588275368704223, -0.007729642884629924,...</td>\n",
       "    </tr>\n",
       "    <tr>\n",
       "      <th>doc3</th>\n",
       "      <td>[0.006247837778099532, -0.011888150581990902, ...</td>\n",
       "    </tr>\n",
       "    <tr>\n",
       "      <th>doc4</th>\n",
       "      <td>[0.007191718364664765, -0.00739877371923526, 0...</td>\n",
       "    </tr>\n",
       "    <tr>\n",
       "      <th>doc5</th>\n",
       "      <td>[-0.012162613987909642, 0.010884197702176215, ...</td>\n",
       "    </tr>\n",
       "    <tr>\n",
       "      <th>...</th>\n",
       "      <td>...</td>\n",
       "    </tr>\n",
       "    <tr>\n",
       "      <th>doc124</th>\n",
       "      <td>[-0.004078946483233099, -0.006772457524426935,...</td>\n",
       "    </tr>\n",
       "    <tr>\n",
       "      <th>doc125</th>\n",
       "      <td>[0.011603843581650886, 0.0034337903383435298, ...</td>\n",
       "    </tr>\n",
       "    <tr>\n",
       "      <th>doc126</th>\n",
       "      <td>[0.01221271396551256, 0.005210238417225174, 0....</td>\n",
       "    </tr>\n",
       "    <tr>\n",
       "      <th>doc127</th>\n",
       "      <td>[0.02076291390318825, -0.009703654319827247, 0...</td>\n",
       "    </tr>\n",
       "    <tr>\n",
       "      <th>doc128</th>\n",
       "      <td>[0.019242804700526327, 0.004445115151221563, -...</td>\n",
       "    </tr>\n",
       "  </tbody>\n",
       "</table>\n",
       "<p>128 rows × 1 columns</p>\n",
       "</div>"
      ],
      "text/plain": [
       "                                               embeddings\n",
       "doc1    [0.011597242568533046, 0.0003537849233094882, ...\n",
       "doc2    [-0.012588275368704223, -0.007729642884629924,...\n",
       "doc3    [0.006247837778099532, -0.011888150581990902, ...\n",
       "doc4    [0.007191718364664765, -0.00739877371923526, 0...\n",
       "doc5    [-0.012162613987909642, 0.010884197702176215, ...\n",
       "...                                                   ...\n",
       "doc124  [-0.004078946483233099, -0.006772457524426935,...\n",
       "doc125  [0.011603843581650886, 0.0034337903383435298, ...\n",
       "doc126  [0.01221271396551256, 0.005210238417225174, 0....\n",
       "doc127  [0.02076291390318825, -0.009703654319827247, 0...\n",
       "doc128  [0.019242804700526327, 0.004445115151221563, -...\n",
       "\n",
       "[128 rows x 1 columns]"
      ]
     },
     "execution_count": 168,
     "metadata": {},
     "output_type": "execute_result"
    }
   ],
   "source": [
    "doc_vectors = {}\n",
    "for i in range(len(vectors)):\n",
    "    doc_name = \"doc\" + str(i+1)\n",
    "    doc_vectors[doc_name] = [vectors[i]]\n",
    "\n",
    "\n",
    "df = pd.DataFrame.from_dict(doc_vectors, orient=\"index\", columns=[\"embeddings\"])\n",
    "df"
   ]
  },
  {
   "cell_type": "code",
   "execution_count": 170,
   "id": "de3c7b25-7166-4e6a-a1af-f1f2516e70a6",
   "metadata": {},
   "outputs": [],
   "source": [
    "# save the data frame as a csv file\n",
    "df.to_csv('embeddings.csv')"
   ]
  },
  {
   "cell_type": "code",
   "execution_count": 230,
   "id": "1e39d240-703b-4645-837c-8be131248062",
   "metadata": {},
   "outputs": [],
   "source": [
    "embeddings = pd.read_csv(\"embeddings.csv\", index_col=0)"
   ]
  },
  {
   "cell_type": "code",
   "execution_count": 231,
   "id": "fd4a40ec-aa90-4d92-9aa8-64716ff0d85b",
   "metadata": {},
   "outputs": [
    {
     "data": {
      "text/html": [
       "<div>\n",
       "<style scoped>\n",
       "    .dataframe tbody tr th:only-of-type {\n",
       "        vertical-align: middle;\n",
       "    }\n",
       "\n",
       "    .dataframe tbody tr th {\n",
       "        vertical-align: top;\n",
       "    }\n",
       "\n",
       "    .dataframe thead th {\n",
       "        text-align: right;\n",
       "    }\n",
       "</style>\n",
       "<table border=\"1\" class=\"dataframe\">\n",
       "  <thead>\n",
       "    <tr style=\"text-align: right;\">\n",
       "      <th></th>\n",
       "      <th>embeddings</th>\n",
       "    </tr>\n",
       "  </thead>\n",
       "  <tbody>\n",
       "    <tr>\n",
       "      <th>doc1</th>\n",
       "      <td>[0.011597242568533046, 0.0003537849233094882, ...</td>\n",
       "    </tr>\n",
       "    <tr>\n",
       "      <th>doc2</th>\n",
       "      <td>[-0.012588275368704223, -0.007729642884629924,...</td>\n",
       "    </tr>\n",
       "    <tr>\n",
       "      <th>doc3</th>\n",
       "      <td>[0.006247837778099532, -0.011888150581990902, ...</td>\n",
       "    </tr>\n",
       "    <tr>\n",
       "      <th>doc4</th>\n",
       "      <td>[0.007191718364664765, -0.00739877371923526, 0...</td>\n",
       "    </tr>\n",
       "    <tr>\n",
       "      <th>doc5</th>\n",
       "      <td>[-0.012162613987909642, 0.010884197702176215, ...</td>\n",
       "    </tr>\n",
       "    <tr>\n",
       "      <th>...</th>\n",
       "      <td>...</td>\n",
       "    </tr>\n",
       "    <tr>\n",
       "      <th>doc124</th>\n",
       "      <td>[-0.004078946483233099, -0.006772457524426935,...</td>\n",
       "    </tr>\n",
       "    <tr>\n",
       "      <th>doc125</th>\n",
       "      <td>[0.011603843581650886, 0.0034337903383435298, ...</td>\n",
       "    </tr>\n",
       "    <tr>\n",
       "      <th>doc126</th>\n",
       "      <td>[0.01221271396551256, 0.005210238417225174, 0....</td>\n",
       "    </tr>\n",
       "    <tr>\n",
       "      <th>doc127</th>\n",
       "      <td>[0.02076291390318825, -0.009703654319827247, 0...</td>\n",
       "    </tr>\n",
       "    <tr>\n",
       "      <th>doc128</th>\n",
       "      <td>[0.019242804700526327, 0.004445115151221563, -...</td>\n",
       "    </tr>\n",
       "  </tbody>\n",
       "</table>\n",
       "<p>128 rows × 1 columns</p>\n",
       "</div>"
      ],
      "text/plain": [
       "                                               embeddings\n",
       "doc1    [0.011597242568533046, 0.0003537849233094882, ...\n",
       "doc2    [-0.012588275368704223, -0.007729642884629924,...\n",
       "doc3    [0.006247837778099532, -0.011888150581990902, ...\n",
       "doc4    [0.007191718364664765, -0.00739877371923526, 0...\n",
       "doc5    [-0.012162613987909642, 0.010884197702176215, ...\n",
       "...                                                   ...\n",
       "doc124  [-0.004078946483233099, -0.006772457524426935,...\n",
       "doc125  [0.011603843581650886, 0.0034337903383435298, ...\n",
       "doc126  [0.01221271396551256, 0.005210238417225174, 0....\n",
       "doc127  [0.02076291390318825, -0.009703654319827247, 0...\n",
       "doc128  [0.019242804700526327, 0.004445115151221563, -...\n",
       "\n",
       "[128 rows x 1 columns]"
      ]
     },
     "execution_count": 231,
     "metadata": {},
     "output_type": "execute_result"
    }
   ],
   "source": [
    "embeddings"
   ]
  },
  {
   "cell_type": "code",
   "execution_count": 232,
   "id": "e0e60f37-22b8-4641-9354-2b92e11179b1",
   "metadata": {
    "scrolled": true
   },
   "outputs": [],
   "source": [
    "embeddings['embeddings'] = embeddings['embeddings'].apply(ast.literal_eval)"
   ]
  },
  {
   "cell_type": "code",
   "execution_count": 235,
   "id": "765de74e-3b19-452a-b239-e485402efdc8",
   "metadata": {
    "scrolled": true
   },
   "outputs": [],
   "source": [
    "embeddings_list = embeddings['embeddings'].tolist()"
   ]
  },
  {
   "cell_type": "code",
   "execution_count": 239,
   "id": "00b9dcee-ac60-4929-92e8-f59e19789afd",
   "metadata": {},
   "outputs": [],
   "source": [
    "results = []\n",
    "for vector, embedding in zip(vectors, embeddings_list):\n",
    "  # compare the vector and the embedding using the np.array_equal function\n",
    "  result = np.array_equal(vector, embedding)\n",
    "  results.append(result)"
   ]
  },
  {
   "cell_type": "code",
   "execution_count": 240,
   "id": "79bc9ba9-507b-4c60-822b-e1b31bd35d04",
   "metadata": {
    "scrolled": true
   },
   "outputs": [
    {
     "data": {
      "text/plain": [
       "[True,\n",
       " True,\n",
       " True,\n",
       " True,\n",
       " True,\n",
       " True,\n",
       " True,\n",
       " True,\n",
       " True,\n",
       " True,\n",
       " True,\n",
       " True,\n",
       " True,\n",
       " True,\n",
       " True,\n",
       " True,\n",
       " True,\n",
       " True,\n",
       " True,\n",
       " True,\n",
       " True,\n",
       " True,\n",
       " True,\n",
       " True,\n",
       " True,\n",
       " True,\n",
       " True,\n",
       " True,\n",
       " True,\n",
       " True,\n",
       " True,\n",
       " True,\n",
       " True,\n",
       " True,\n",
       " True,\n",
       " True,\n",
       " True,\n",
       " True,\n",
       " True,\n",
       " True,\n",
       " True,\n",
       " True,\n",
       " True,\n",
       " True,\n",
       " True,\n",
       " True,\n",
       " True,\n",
       " True,\n",
       " True,\n",
       " True,\n",
       " True,\n",
       " True,\n",
       " True,\n",
       " True,\n",
       " True,\n",
       " True,\n",
       " True,\n",
       " True,\n",
       " True,\n",
       " True,\n",
       " True,\n",
       " True,\n",
       " True,\n",
       " True,\n",
       " True,\n",
       " True,\n",
       " True,\n",
       " True,\n",
       " True,\n",
       " True,\n",
       " True,\n",
       " True,\n",
       " True,\n",
       " True,\n",
       " True,\n",
       " True,\n",
       " True,\n",
       " True,\n",
       " True,\n",
       " True,\n",
       " True,\n",
       " True,\n",
       " True,\n",
       " True,\n",
       " True,\n",
       " True,\n",
       " True,\n",
       " True,\n",
       " True,\n",
       " True,\n",
       " True,\n",
       " True,\n",
       " True,\n",
       " True,\n",
       " True,\n",
       " True,\n",
       " True,\n",
       " True,\n",
       " True,\n",
       " True,\n",
       " True,\n",
       " True,\n",
       " True,\n",
       " True,\n",
       " True,\n",
       " True,\n",
       " True,\n",
       " True,\n",
       " True,\n",
       " True,\n",
       " True,\n",
       " True,\n",
       " True,\n",
       " True,\n",
       " True,\n",
       " True,\n",
       " True,\n",
       " True,\n",
       " True,\n",
       " True,\n",
       " True,\n",
       " True,\n",
       " True,\n",
       " True,\n",
       " True,\n",
       " True,\n",
       " True,\n",
       " True]"
      ]
     },
     "execution_count": 240,
     "metadata": {},
     "output_type": "execute_result"
    }
   ],
   "source": [
    "results"
   ]
  },
  {
   "cell_type": "code",
   "execution_count": 242,
   "id": "b1b9c9d3-e1a9-48c3-a044-53957a505c63",
   "metadata": {},
   "outputs": [],
   "source": [
    "from sklearn.metrics import silhouette_score\n",
    "from sklearn.cluster import KMeans\n",
    "import matplotlib.pyplot as plt"
   ]
  },
  {
   "cell_type": "code",
   "execution_count": 276,
   "id": "03a741de-7a33-47f3-9a8b-d05cc36e7882",
   "metadata": {},
   "outputs": [
    {
     "name": "stdout",
     "output_type": "stream",
     "text": [
      "Optimal number of clusters: 2\n"
     ]
    },
    {
     "data": {
      "image/png": "[encoded data removed]",
      "text/plain": [
       "<Figure size 640x480 with 1 Axes>"
      ]
     },
     "metadata": {},
     "output_type": "display_data"
    }
   ],
   "source": [
    "silhouette_scores = []\n",
    "cluster_range = range(2, 50)  # Silhouette Score is not defined for 1 cluster\n",
    "\n",
    "for n_clusters in cluster_range:\n",
    "    kmeans = KMeans(n_clusters=n_clusters, init=\"k-means++\", random_state=42)\n",
    "    kmeans.fit(vectors)\n",
    "    labels = kmeans.labels_\n",
    "    score = silhouette_score(vectors, labels)\n",
    "    silhouette_scores.append(score)\n",
    "\n",
    "best_n_clusters = cluster_range[silhouette_scores.index(max(silhouette_scores))]\n",
    "print(\"Optimal number of clusters:\", best_n_clusters)\n",
    "\n",
    "plt.plot(cluster_range, silhouette_scores, marker=\"o\")\n",
    "plt.xlabel(\"Number of Clusters\")\n",
    "plt.ylabel(\"Silhouette Score\")\n",
    "plt.title(\"Silhouette Score\")\n",
    "plt.show()"
   ]
  },
  {
   "cell_type": "code",
   "execution_count": 277,
   "id": "3f8d3e4d-b23b-4bf7-8d39-293de2d4b4cd",
   "metadata": {},
   "outputs": [
    {
     "data": {
      "text/html": [
       "<style>#sk-container-id-6 {color: black;}#sk-container-id-6 pre{padding: 0;}#sk-container-id-6 div.sk-toggleable {background-color: white;}#sk-container-id-6 label.sk-toggleable__label {cursor: pointer;display: block;width: 100%;margin-bottom: 0;padding: 0.3em;box-sizing: border-box;text-align: center;}#sk-container-id-6 label.sk-toggleable__label-arrow:before {content: \"▸\";float: left;margin-right: 0.25em;color: #696969;}#sk-container-id-6 label.sk-toggleable__label-arrow:hover:before {color: black;}#sk-container-id-6 div.sk-estimator:hover label.sk-toggleable__label-arrow:before {color: black;}#sk-container-id-6 div.sk-toggleable__content {max-height: 0;max-width: 0;overflow: hidden;text-align: left;background-color: #f0f8ff;}#sk-container-id-6 div.sk-toggleable__content pre {margin: 0.2em;color: black;border-radius: 0.25em;background-color: #f0f8ff;}#sk-container-id-6 input.sk-toggleable__control:checked~div.sk-toggleable__content {max-height: 200px;max-width: 100%;overflow: auto;}#sk-container-id-6 input.sk-toggleable__control:checked~label.sk-toggleable__label-arrow:before {content: \"▾\";}#sk-container-id-6 div.sk-estimator input.sk-toggleable__control:checked~label.sk-toggleable__label {background-color: #d4ebff;}#sk-container-id-6 div.sk-label input.sk-toggleable__control:checked~label.sk-toggleable__label {background-color: #d4ebff;}#sk-container-id-6 input.sk-hidden--visually {border: 0;clip: rect(1px 1px 1px 1px);clip: rect(1px, 1px, 1px, 1px);height: 1px;margin: -1px;overflow: hidden;padding: 0;position: absolute;width: 1px;}#sk-container-id-6 div.sk-estimator {font-family: monospace;background-color: #f0f8ff;border: 1px dotted black;border-radius: 0.25em;box-sizing: border-box;margin-bottom: 0.5em;}#sk-container-id-6 div.sk-estimator:hover {background-color: #d4ebff;}#sk-container-id-6 div.sk-parallel-item::after {content: \"\";width: 100%;border-bottom: 1px solid gray;flex-grow: 1;}#sk-container-id-6 div.sk-label:hover label.sk-toggleable__label {background-color: #d4ebff;}#sk-container-id-6 div.sk-serial::before {content: \"\";position: absolute;border-left: 1px solid gray;box-sizing: border-box;top: 0;bottom: 0;left: 50%;z-index: 0;}#sk-container-id-6 div.sk-serial {display: flex;flex-direction: column;align-items: center;background-color: white;padding-right: 0.2em;padding-left: 0.2em;position: relative;}#sk-container-id-6 div.sk-item {position: relative;z-index: 1;}#sk-container-id-6 div.sk-parallel {display: flex;align-items: stretch;justify-content: center;background-color: white;position: relative;}#sk-container-id-6 div.sk-item::before, #sk-container-id-6 div.sk-parallel-item::before {content: \"\";position: absolute;border-left: 1px solid gray;box-sizing: border-box;top: 0;bottom: 0;left: 50%;z-index: -1;}#sk-container-id-6 div.sk-parallel-item {display: flex;flex-direction: column;z-index: 1;position: relative;background-color: white;}#sk-container-id-6 div.sk-parallel-item:first-child::after {align-self: flex-end;width: 50%;}#sk-container-id-6 div.sk-parallel-item:last-child::after {align-self: flex-start;width: 50%;}#sk-container-id-6 div.sk-parallel-item:only-child::after {width: 0;}#sk-container-id-6 div.sk-dashed-wrapped {border: 1px dashed gray;margin: 0 0.4em 0.5em 0.4em;box-sizing: border-box;padding-bottom: 0.4em;background-color: white;}#sk-container-id-6 div.sk-label label {font-family: monospace;font-weight: bold;display: inline-block;line-height: 1.2em;}#sk-container-id-6 div.sk-label-container {text-align: center;}#sk-container-id-6 div.sk-container {/* jupyter's `normalize.less` sets `[hidden] { display: none; }` but bootstrap.min.css set `[hidden] { display: none !important; }` so we also need the `!important` here to be able to override the default hidden behavior on the sphinx rendered scikit-learn.org. See: https://github.com/scikit-learn/scikit-learn/issues/21755 */display: inline-block !important;position: relative;}#sk-container-id-6 div.sk-text-repr-fallback {display: none;}</style><div id=\"sk-container-id-6\" class=\"sk-top-container\"><div class=\"sk-text-repr-fallback\"><pre>KMeans(n_clusters=2, random_state=42)</pre><b>In a Jupyter environment, please rerun this cell to show the HTML representation or trust the notebook. <br />On GitHub, the HTML representation is unable to render, please try loading this page with nbviewer.org.</b></div><div class=\"sk-container\" hidden><div class=\"sk-item\"><div class=\"sk-estimator sk-toggleable\"><input class=\"sk-toggleable__control sk-hidden--visually\" id=\"sk-estimator-id-6\" type=\"checkbox\" checked><label for=\"sk-estimator-id-6\" class=\"sk-toggleable__label sk-toggleable__label-arrow\">KMeans</label><div class=\"sk-toggleable__content\"><pre>KMeans(n_clusters=2, random_state=42)</pre></div></div></div></div></div>"
      ],
      "text/plain": [
       "KMeans(n_clusters=2, random_state=42)"
      ]
     },
     "execution_count": 277,
     "metadata": {},
     "output_type": "execute_result"
    }
   ],
   "source": [
    "n_clusters = 2\n",
    "\n",
    "kmeans = KMeans(n_clusters=n_clusters, init=\"k-means++\", random_state=42)\n",
    "kmeans.fit(embeddingMatrix)"
   ]
  },
  {
   "cell_type": "code",
   "execution_count": 278,
   "id": "b358e86a-9027-4d48-8e9b-91f131a63a53",
   "metadata": {},
   "outputs": [
    {
     "data": {
      "text/plain": [
       "array([0, 0, 0, 0, 1, 0, 0, 1, 1, 1, 1, 1, 0, 0, 0, 0, 0, 0, 0, 0, 0, 0,\n",
       "       0, 0, 0, 0, 0, 0, 0, 0, 0, 0, 0, 0, 0, 0, 0, 0, 0, 0, 0, 0, 0, 0,\n",
       "       1, 1, 0, 1, 1, 1, 1, 1, 1, 1, 1, 1, 1, 1, 0, 0, 0, 0, 0, 0, 0, 0,\n",
       "       1, 1, 1, 1, 1, 1, 1, 1, 1, 0, 0, 0, 0, 0, 0, 0, 0, 0, 1, 1, 1, 1,\n",
       "       1, 1, 1, 1, 1, 1, 1, 1, 1, 1, 1, 1, 1, 1, 0, 0, 0, 0, 0, 0, 0, 1,\n",
       "       1, 0, 1, 1, 1, 1, 1, 0, 1, 1, 1, 1, 0, 0, 1, 1, 0, 0])"
      ]
     },
     "execution_count": 278,
     "metadata": {},
     "output_type": "execute_result"
    }
   ],
   "source": [
    "kmeans.labels_"
   ]
  },
  {
   "cell_type": "code",
   "execution_count": 279,
   "id": "bae5bc6c-bea7-41b4-b28e-c181f5ac0bd2",
   "metadata": {},
   "outputs": [
    {
     "data": {
      "image/png": "[encoded data removed]",
      "text/plain": [
       "<Figure size 640x480 with 1 Axes>"
      ]
     },
     "metadata": {},
     "output_type": "display_data"
    }
   ],
   "source": [
    "from sklearn.manifold import TSNE\n",
    "import matplotlib.pyplot as plt\n",
    "\n",
    "# Taking out the warnings\n",
    "import warnings\n",
    "from warnings import simplefilter\n",
    "\n",
    "# Filter out FutureWarnings\n",
    "simplefilter(action='ignore', category=FutureWarning)\n",
    "\n",
    "# Perform t-SNE and reduce to 2 dimensions\n",
    "tsne = TSNE(n_components=2, random_state=42)\n",
    "reduced_data_tsne = tsne.fit_transform(embeddingMatrix)\n",
    "\n",
    "# Plot the reduced data\n",
    "plt.scatter(reduced_data_tsne[:, 0], reduced_data_tsne[:, 1], c=kmeans.labels_)\n",
    "plt.xlabel('Dimension 1')\n",
    "plt.ylabel('Dimension 2')\n",
    "plt.title('Book Embeddings Clustered')\n",
    "plt.show()"
   ]
  },
  {
   "cell_type": "code",
   "execution_count": 280,
   "id": "71c74458-be7d-4148-9a70-7ace55e4673c",
   "metadata": {},
   "outputs": [],
   "source": [
    "closest_indices = []\n",
    "\n",
    "# Loop through the number of clusters you have\n",
    "for i in range(n_clusters):\n",
    "    # Get the list of distances from that particular cluster center\n",
    "    distances = np.linalg.norm(vectors - kmeans.cluster_centers_[i], axis=1)\n",
    "    # Find the list position of the closest one (using argmin to find the smallest distance)\n",
    "    closest_index = np.argmin(distances)\n",
    "    # Append that position to your closest indices list\n",
    "    closest_indices.append(closest_index)"
   ]
  },
  {
   "cell_type": "code",
   "execution_count": 281,
   "id": "05a6ec9c-a1b1-4276-b9f6-270cdd52a359",
   "metadata": {},
   "outputs": [
    {
     "data": {
      "text/plain": [
       "[70, 102]"
      ]
     },
     "execution_count": 281,
     "metadata": {},
     "output_type": "execute_result"
    }
   ],
   "source": [
    "selected_indices = sorted(closest_indices)\n",
    "selected_indices"
   ]
  },
  {
   "cell_type": "code",
   "execution_count": 282,
   "id": "913d7800-d871-4b1e-ad39-6d825ca02ba4",
   "metadata": {},
   "outputs": [
    {
     "data": {
      "text/plain": [
       "2"
      ]
     },
     "execution_count": 282,
     "metadata": {},
     "output_type": "execute_result"
    }
   ],
   "source": [
    "selected_docs = [docs[doc] for doc in selected_indices]\n",
    "len(selected_docs)"
   ]
  },
  {
   "cell_type": "code",
   "execution_count": 283,
   "id": "3d8eed62-c9d6-4d75-be9d-a1d53d62364a",
   "metadata": {},
   "outputs": [
    {
     "name": "stdout",
     "output_type": "stream",
     "text": [
      "Mr. Svidrigaïlov. It makes me miserable.’\n",
      "‘He has just been to see me,’ said Raskolnikov, breaking \n",
      "his silence for the first time.There were exclamations from all, and they all turned to \n",
      "him. Even Pyotr Petrovitch was roused.\n",
      "‘An hour and a half ago, he came in when I was asleep, \n",
      "waked me, and introduced himself,’ Raskolnikov continued. \n",
      "‘He was fairly cheerful and at ease, and quite hopes that we \n",
      "shall become friends. He is particularly anxious, by the way, \n",
      "Dounia, for an interview with you, at which he asked me to \n",
      "assist. He has a proposition to make to you, and he told me \n",
      "about it. He told me, too, that a week before her death Marfa \n",
      "Petrovna left you three thousand roubles in her will, Dou -\n",
      "nia, and that you can receive the money very shortly.’\n",
      "‘Thank God!’ cried Pulcheria Alexandrovna, crossing \n",
      "herself. ‘Pray for her soul, Dounia!’\n",
      "‘It’s a fact!’ broke from Luzhin.\n",
      "‘Tell us, what more?’ Dounia urged Raskolnikov.\n",
      "‘Then he said that he wasn’t rich and all the estate was \n",
      "left to his children who are now with an aunt, then that he \n",
      "was staying somewhere not far from me, but where, I don’t \n",
      "know, I didn’t ask….’\n",
      "‘But what, what does he want to propose to Dounia?’ \n",
      "cried Pulcheria Alexandrovna in a fright. ‘Did he tell you?’\n",
      "‘Yes.’\n",
      "‘What was it?’\n",
      "‘I’ll tell you afterwards.’\n",
      "Raskolnikov ceased speaking and turned his attention \n",
      "to his tea.\n",
      "Pyotr Petrovitch looked at his watch.\n",
      "‘I am compelled to keep a business engagement, and so I \n",
      "shall not be in your way,’ he added with an air of some piqueand he began getting up.\n",
      "‘Don’t go, Pyotr Petrovitch,’ said Dounia, ‘you intended \n",
      "to spend the evening. Besides, you wrote yourself that you \n",
      "wanted to have an explanation with mother.’\n",
      "‘Precisely so, Avdotya Romanovna,’ Pyotr Petrovitch an -\n",
      "swered impressively, sitting down again, but still holding \n",
      "his hat. ‘I certainly desired an explanation with you and \n",
      "your honoured mother upon a very important point indeed. \n",
      "But as your brother cannot speak openly in my presence of \n",
      "some proposals of Mr. Svidrigaïlov, I, too, do not desire and \n",
      "am not able to speak openly … in the presence of others \n",
      "… of certain matters of the greatest gravity. Moreover, my \n",
      "most weighty and urgent request has been disregarded….’\n",
      "Assuming an aggrieved air, Luzhin relapsed into digni -\n",
      "fied silence.\n",
      "‘Your request that my brother should not be present at our \n",
      "meeting was disregarded solely at my instance,’ said Dou -\n",
      "nia. ‘You wrote that you had been insulted by my brother; I \n",
      "think that this must be explained at once, and you must be \n",
      "reconciled. And if Rodya really has insulted you, then he \n",
      "should  and will apologise.’\n",
      "Pyotr Petrovitch took a stronger line.\n",
      "‘There are insults, Avdotya Romanovna, which no good -\n",
      "will can make us forget. There is a line in everything which \n",
      "it is dangerous to overstep; and when it has been over -\n",
      "stepped, there is no return.’\n",
      "‘That wasn’t what I was speaking of exactly, Pyotr Petro -\n",
      "vitch,’ Dounia interrupted with some impatience. ‘Please \n",
      "understand that our whole future depends now on wheth -er all this is explained and set right as soon as possible. I \n",
      "tell you frankly at the start that I cannot look at it in any \n",
      "other light, and if you have the least regard for me, all this \n",
      "business must be ended to-day, however hard that may be. \n",
      "I repeat that if my brother is to blame he will ask your for -\n",
      "giveness.’\n",
      "‘I am surprised at your putting the question like that,’ \n",
      "said Luzhin, getting more and more irritated. ‘Esteeming, \n",
      "and so to say, adoring you, I may at the same time, very \n",
      "well indeed, be able to dislike some member of your family. \n",
      "Though I lay claim to the happiness of your hand, I cannot \n",
      "accept duties incompatible with …’\n",
      "‘Ah, don’t be so ready to take offence, Pyotr Petrovitch,’ \n",
      "Dounia interrupted with feeling, ‘and be the sensible and \n",
      "generous man I have always considered, and wish to con -\n",
      "sider, you to be. I’ve given you a great promise, I am your \n",
      "betrothed. Trust me in this matter and, believe me, I shall \n",
      "be capable of judging impartially. My assuming the part of \n",
      "judge is as much a surprise for my brother as for you. When \n",
      "I insisted on his coming to our interview to-day after your \n",
      "letter, I told him nothing of what I meant to do. Understand \n",
      "that, if you are not reconciled, I must choose between you—\n",
      "it must be either you or he. That is how the question rests \n",
      "on your side and on his. I don’t want to be mistaken in my \n",
      "choice, and I must not be. For your sake I must break off  \n",
      "with my brother, for my brother’s sake I must break off with \n",
      "you. I can find out for certain now whether he is a brother \n",
      "to me, and I want to know it; and of you, whether I am dear \n",
      "to you, whether you esteem me, whether you are the hus -band for me.’\n",
      "‘Avdotya Romanovna,’ Luzhin declared huffily, ‘your \n",
      "words are of too much consequence to me; I will say more, \n",
      "they are offensive in view of the position I have the hon -\n",
      "our to occupy in relation to you. To say nothing of your \n",
      "strange and offensive setting me on a level with an im -\n",
      "pertinent boy, you admit the possibility of breaking your \n",
      "promise to me. You say ‘you or he,’ showing thereby of how \n",
      "little consequence I am in your eyes … I cannot let this pass \n",
      "considering the relationship and … the obligations existing \n",
      "between us.’\n",
      "‘What!’ cried Dounia, flushing. ‘I set your interest beside \n",
      "all that has hitherto been most precious in my life, what has \n",
      "made up the whole  of my life, and here you are offended at \n",
      "my making too little  account of you.’\n",
      "Raskolnikov smiled sarcastically, Razumihin fidgeted, \n",
      "but Pyotr Petrovitch did not accept the reproof; on the con -\n",
      "trary, at every word he became more persistent and irritable, \n",
      "as though he relished it.\n",
      "‘Love for the future partner of your life, for your hus -\n",
      "band, ought to outweigh your love for your brother,’ he \n",
      "pronounced sententiously, ‘and in any case I cannot be put \n",
      "on the same level…. Although I said so emphatically that \n",
      "I would not speak openly in your brother’s presence, nev -\n",
      "ertheless, I intend now to ask your honoured mother for a \n",
      "necessary explanation on a point of great importance close -\n",
      "ly affecting my dignity. Your son,’ he turned to Pulcheria \n",
      "Alexandrovna, ‘yesterday in the presence of Mr. Razsud -\n",
      "kin (or … I think that’s it? excuse me I have forgotten yoursurname,’ he bowed politely to Razumihin) ‘insulted me \n",
      "by misrepresenting the idea I expressed to you in a private \n",
      "conversation, drinking coffee, that is, that marriage with a \n",
      "poor girl who has had experience of trouble is more advan -\n",
      "tageous from the conjugal point of view than with one who \n",
      "has lived in luxury, since it is more profitable for the moral \n",
      "character. Your son intentionally exaggerated the signifi -\n",
      "cance of my words and made them ridiculous, accusing \n",
      "me of malicious intentions, and, as far as I could see, relied \n",
      "upon your correspondence with him. I shall consider my -\n",
      "self happy, Pulcheria Alexandrovna, if it is possible for you \n",
      "to convince me of an opposite conclusion, and thereby con -\n",
      "siderately reassure me. Kindly let me know in what terms \n",
      "precisely you repeated my words in your letter to Rodion \n",
      "Romanovitch.’\n",
      "‘I don’t remember,’ faltered Pulcheria Alexandrovna. ‘I \n",
      "repeated them as I understood them. I don’t know how Ro -\n",
      "dya repeated them to you, perhaps he exaggerated.’\n",
      "‘He could not have exaggerated them, except at your in -\n",
      "stigation.’\n",
      "‘Pyotr Petrovitch,’ Pulcheria Alexandrovna declared \n",
      "with dignity, ‘the proof that Dounia and I did not take your \n",
      "words in a very bad sense is the fact that we are here.’\n",
      "‘Good, mother,’ said Dounia approvingly.\n",
      "‘Then this is my fault again,’ said Luzhin, aggrieved.\n",
      "‘Well, Pyotr Petrovitch, you keep blaming Rodion, but \n",
      "you yourself have just written what was false about him,’ \n",
      "Pulcheria Alexandrovna added, gaining courage.\n",
      "‘I don’t remember writing anything false.’‘You wrote,’ Raskolnikov said sharply, not turning to Lu -\n",
      "zhin, ‘that I gave money yesterday not to the widow of the \n",
      "man who was killed, as was the fact, but to his daughter \n",
      "(whom I had never seen till yesterday). You wrote this to \n",
      "make dissension between me and my family, and for that \n",
      "object added coarse expressions about the conduct of a girl \n",
      "whom you don’t know. All that is mean slander.’\n",
      "‘Excuse me, sir,’ said Luzhin, quivering with fury. ‘I en -\n",
      "larged upon your qualities and conduct in my letter solely \n",
      "in response to your sister’s and mother’s inquiries, how I \n",
      "found you, and what impression you made on me. As for \n",
      "what you’ve alluded to in my letter, be so good as to point \n",
      "out one word of falsehood, show, that is, that you didn’t \n",
      "throw away your money, and that there are not worthless \n",
      "persons in that family, however unfortunate.’\n",
      "‘To my thinking, you, with all your virtues, are not worth \n",
      "the little finger of that unfortunate girl at whom you throw \n",
      "stones.’\n",
      "‘Would you go so far then as to let her associate with your \n",
      "mother and sister?’\n",
      "‘I have done so already, if you care to know. I made her sit \n",
      "down to-day with mother and Dounia.’\n",
      "‘Rodya!’ cried Pulcheria Alexandrovna. Dounia crim -\n",
      "soned, Razumihin knitted his brows. Luzhin smiled with \n",
      "lofty sarcasm.\n",
      "‘You may see for yourself, Avdotya Romanovna,’ he said, \n",
      "‘whether it is possible for us to agree. I hope now that this \n",
      "question is at an end, once and for all. I will withdraw, that \n",
      "I may not hinder the pleasures of family intimacy, and thediscussion of secrets.’ He got up from his chair and took \n",
      "his hat. ‘But in withdrawing, I venture to request that for \n",
      "the future I may be spared similar meetings, and, so to say, \n",
      "compromises. I appeal particularly to you, honoured Pul -\n",
      "cheria Alexandrovna, on this subject, the more as my letter \n",
      "was addressed to you and to no one else.’\n",
      "Pulcheria Alexandrovna was a little offended.\n",
      "‘You seem to think we are completely under your author -\n",
      "ity, Pyotr Petrovitch. Dounia has told you the reason your \n",
      "desire was disregarded, she had the best intentions. And in -\n",
      "deed you write as though you were laying commands upon \n",
      "me. Are we to consider every desire of yours as a command? \n",
      "Let me tell you on the contrary that you ought to show par -\n",
      "ticular delicacy and consideration for us now, because we \n",
      "have thrown up everything, and have come here relying on \n",
      "you, and so we are in any case in a sense in your hands.’\n",
      "‘That is not quite true, Pulcheria Alexandrovna, espe -\n",
      "cially at the present moment, when the news has come of \n",
      "Marfa Petrovna’s legacy, which seems indeed very apropos, \n",
      "judging from the new tone you take to me,’ he added sar -\n",
      "castically.\n",
      "‘Judging from that remark, we may certainly presume \n",
      "that you were reckoning on our helplessness,’ Dounia ob -\n",
      "served irritably.\n",
      "‘But now in any case I cannot reckon on it, and I par -\n",
      "ticularly desire not to hinder your discussion of the secret \n",
      "proposals of Arkady Ivanovitch Svidrigaïlov, which he has \n",
      "entrusted to your brother and which have, I perceive, a great \n",
      "and possibly a very agreeable interest for you.’‘Good heavens!’ cried Pulcheria Alexandrovna.\n",
      "Razumihin could not sit still on his chair.\n",
      "‘Aren’t you ashamed now, sister?’ asked Raskolnikov.\n",
      "‘I am ashamed, Rodya,’ said Dounia. ‘Pyotr Petrovitch, \n",
      "go away,’ she turned to him, white with anger.\n",
      "Pyotr Petrovitch had apparently not at all expected such \n",
      "a conclusion. He had too much confidence in himself, in his \n",
      "power and in the helplessness of his victims. He could not \n",
      "believe it even now. He turned pale, and his lips quivered.\n",
      "‘Avdotya Romanovna, if I go out of this door now, after \n",
      "such a dismissal, then, you may reckon on it, I will never \n",
      "come back. Consider what you are doing. My word is not \n",
      "to be shaken.’\n",
      "‘What insolence!’ cried Dounia, springing up from her \n",
      "seat. ‘I don’t want you to come back again.’\n",
      "‘What! So that’s how it stands!’ cried Luzhin, utterly un -\n",
      "able to the last moment to believe in the rupture and so \n",
      "completely thrown out of his reckoning now. ‘So that’s how \n",
      "it stands! But do you know, Avdotya Romanovna, that I \n",
      "might protest?’\n"
     ]
    }
   ],
   "source": [
    "print(selected_docs[0].page_content)"
   ]
  },
  {
   "cell_type": "code",
   "execution_count": null,
   "id": "18059b69-ac72-4de6-9b4b-484e372ff195",
   "metadata": {},
   "outputs": [],
   "source": [
    "llm3 = ChatOpenAI(temperature=0,\n",
    "                 openai_api_key=openai_api_key,\n",
    "                 max_tokens=1000,\n",
    "                 model='gpt-3.5-turbo'\n",
    "                )"
   ]
  }
 ],
 "metadata": {
  "kernelspec": {
   "display_name": "Python 3 (ipykernel)",
   "language": "python",
   "name": "python3"
  },
  "language_info": {
   "codemirror_mode": {
    "name": "ipython",
    "version": 3
   },
   "file_extension": ".py",
   "mimetype": "text/x-python",
   "name": "python",
   "nbconvert_exporter": "python",
   "pygments_lexer": "ipython3",
   "version": "3.11.6"
  }
 },
 "nbformat": 4,
 "nbformat_minor": 5
}
